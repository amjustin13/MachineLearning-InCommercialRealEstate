{
 "cells": [
  {
   "cell_type": "markdown",
   "metadata": {},
   "source": [
    "# This Jupyter script will cleanup the data for the Boston permit dataset found here: [Boston Data](https://data.boston.gov/dataset/approved-building-permits)"
   ]
  },
  {
   "cell_type": "markdown",
   "metadata": {},
   "source": [
    "The following script assumes that the data sets have been downloaded and stored within the `datasets` directory."
   ]
  },
  {
   "cell_type": "markdown",
   "metadata": {},
   "source": [
    "## Import packages and load the dataset:"
   ]
  },
  {
   "cell_type": "code",
   "execution_count": 107,
   "metadata": {},
   "outputs": [],
   "source": [
    "import pandas as pd\n",
    "import numpy as np\n",
    "import matplotlib.pyplot as plt\n",
    "df = pd.read_csv('../datasets/Boston_Permits.csv')"
   ]
  },
  {
   "cell_type": "markdown",
   "metadata": {},
   "source": [
    "## Define some global variables"
   ]
  },
  {
   "cell_type": "code",
   "execution_count": 108,
   "metadata": {},
   "outputs": [],
   "source": [
    "# BUILDING DATASET COLUMNS\n",
    "CITY = 'Boston'\n",
    "PERMIT_NUMBER_COL = 'Permit Number'\n",
    "PERMIT_DESC_COL = 'Description'"
   ]
  },
  {
   "cell_type": "code",
   "execution_count": 109,
   "metadata": {},
   "outputs": [
    {
     "data": {
      "text/html": [
       "<div>\n",
       "<style scoped>\n",
       "    .dataframe tbody tr th:only-of-type {\n",
       "        vertical-align: middle;\n",
       "    }\n",
       "\n",
       "    .dataframe tbody tr th {\n",
       "        vertical-align: top;\n",
       "    }\n",
       "\n",
       "    .dataframe thead th {\n",
       "        text-align: right;\n",
       "    }\n",
       "</style>\n",
       "<table border=\"1\" class=\"dataframe\">\n",
       "  <thead>\n",
       "    <tr style=\"text-align: right;\">\n",
       "      <th></th>\n",
       "      <th>permitnumber</th>\n",
       "      <th>worktype</th>\n",
       "      <th>permittypedescr</th>\n",
       "      <th>description</th>\n",
       "      <th>comments</th>\n",
       "      <th>applicant</th>\n",
       "      <th>declared_valuation</th>\n",
       "      <th>total_fees</th>\n",
       "      <th>issued_date</th>\n",
       "      <th>expiration_date</th>\n",
       "      <th>...</th>\n",
       "      <th>occupancytype</th>\n",
       "      <th>sq_feet</th>\n",
       "      <th>address</th>\n",
       "      <th>city</th>\n",
       "      <th>state</th>\n",
       "      <th>zip</th>\n",
       "      <th>property_id</th>\n",
       "      <th>parcel_id</th>\n",
       "      <th>lat</th>\n",
       "      <th>long</th>\n",
       "    </tr>\n",
       "  </thead>\n",
       "  <tbody>\n",
       "    <tr>\n",
       "      <th>0</th>\n",
       "      <td>A1000569</td>\n",
       "      <td>INTEXT</td>\n",
       "      <td>Amendment to a Long Form</td>\n",
       "      <td>Interior/Exterior Work</td>\n",
       "      <td>This work is to Amend Permit ALT347244. Elimin...</td>\n",
       "      <td>Patrick Sharkey</td>\n",
       "      <td>36500.00</td>\n",
       "      <td>390.0</td>\n",
       "      <td>2021-01-28 11:29:26</td>\n",
       "      <td>2021-07-28 00:00:00</td>\n",
       "      <td>...</td>\n",
       "      <td>Mixed</td>\n",
       "      <td>0.0</td>\n",
       "      <td>181-183   State ST</td>\n",
       "      <td>Boston</td>\n",
       "      <td>MA</td>\n",
       "      <td>02109</td>\n",
       "      <td>130392</td>\n",
       "      <td>0303807000</td>\n",
       "      <td>42.359190</td>\n",
       "      <td>-71.052924</td>\n",
       "    </tr>\n",
       "    <tr>\n",
       "      <th>1</th>\n",
       "      <td>A100071</td>\n",
       "      <td>COB</td>\n",
       "      <td>Amendment to a Long Form</td>\n",
       "      <td>City of Boston</td>\n",
       "      <td>Change connector link layout from attached enc...</td>\n",
       "      <td>Renee Santeusanio</td>\n",
       "      <td>40000.00</td>\n",
       "      <td>429.0</td>\n",
       "      <td>2011-11-04 11:04:58</td>\n",
       "      <td>2012-05-04 00:00:00</td>\n",
       "      <td>...</td>\n",
       "      <td>Comm</td>\n",
       "      <td>170.0</td>\n",
       "      <td>175  W Boundary RD</td>\n",
       "      <td>West Roxbury</td>\n",
       "      <td>MA</td>\n",
       "      <td>02132</td>\n",
       "      <td>17268</td>\n",
       "      <td>2012032000</td>\n",
       "      <td>42.260750</td>\n",
       "      <td>-71.149610</td>\n",
       "    </tr>\n",
       "    <tr>\n",
       "      <th>2</th>\n",
       "      <td>A1001012</td>\n",
       "      <td>OTHER</td>\n",
       "      <td>Amendment to a Long Form</td>\n",
       "      <td>Other</td>\n",
       "      <td>Amend Alt943748 to erect a roof deck as per pl...</td>\n",
       "      <td>Jusimar Oliveria</td>\n",
       "      <td>5000.00</td>\n",
       "      <td>70.0</td>\n",
       "      <td>2020-06-01 14:08:47</td>\n",
       "      <td></td>\n",
       "      <td>...</td>\n",
       "      <td>1-3FAM</td>\n",
       "      <td>0.0</td>\n",
       "      <td>15    Prospect ST</td>\n",
       "      <td>Charlestown</td>\n",
       "      <td>MA</td>\n",
       "      <td>02129</td>\n",
       "      <td>113443</td>\n",
       "      <td>0202837000</td>\n",
       "      <td>42.375243</td>\n",
       "      <td>-71.057585</td>\n",
       "    </tr>\n",
       "    <tr>\n",
       "      <th>3</th>\n",
       "      <td>A1001201</td>\n",
       "      <td>INTEXT</td>\n",
       "      <td>Amendment to a Long Form</td>\n",
       "      <td>Interior/Exterior Work</td>\n",
       "      <td>Build steel balcony over garden level with sta...</td>\n",
       "      <td>Andreas Hwang</td>\n",
       "      <td>74295.75</td>\n",
       "      <td>803.0</td>\n",
       "      <td>2019-11-13 13:38:56</td>\n",
       "      <td>2020-05-13 00:00:00</td>\n",
       "      <td>...</td>\n",
       "      <td>Multi</td>\n",
       "      <td>0.0</td>\n",
       "      <td>211  W Springfield ST</td>\n",
       "      <td>Roxbury</td>\n",
       "      <td>MA</td>\n",
       "      <td>02118</td>\n",
       "      <td>129994</td>\n",
       "      <td>0402558000</td>\n",
       "      <td>42.340600</td>\n",
       "      <td>-71.080250</td>\n",
       "    </tr>\n",
       "    <tr>\n",
       "      <th>4</th>\n",
       "      <td>A100137</td>\n",
       "      <td>EXTREN</td>\n",
       "      <td>Amendment to a Long Form</td>\n",
       "      <td>Renovations - Exterior</td>\n",
       "      <td>Landscaping/stonework - amending permit #2801/...</td>\n",
       "      <td>NaN</td>\n",
       "      <td>15000.00</td>\n",
       "      <td>206.0</td>\n",
       "      <td>2013-01-03 14:13:09</td>\n",
       "      <td>2013-07-03 00:00:00</td>\n",
       "      <td>...</td>\n",
       "      <td>1-2FAM</td>\n",
       "      <td>0.0</td>\n",
       "      <td>14    William Jackson AVE</td>\n",
       "      <td>Brighton</td>\n",
       "      <td>MA</td>\n",
       "      <td>02135</td>\n",
       "      <td>149852</td>\n",
       "      <td>2204944000</td>\n",
       "      <td>42.344600</td>\n",
       "      <td>-71.154050</td>\n",
       "    </tr>\n",
       "  </tbody>\n",
       "</table>\n",
       "<p>5 rows × 22 columns</p>\n",
       "</div>"
      ],
      "text/plain": [
       "  permitnumber worktype           permittypedescr             description  \\\n",
       "0     A1000569   INTEXT  Amendment to a Long Form  Interior/Exterior Work   \n",
       "1      A100071      COB  Amendment to a Long Form          City of Boston   \n",
       "2     A1001012    OTHER  Amendment to a Long Form                   Other   \n",
       "3     A1001201   INTEXT  Amendment to a Long Form  Interior/Exterior Work   \n",
       "4      A100137   EXTREN  Amendment to a Long Form  Renovations - Exterior   \n",
       "\n",
       "                                            comments          applicant  \\\n",
       "0  This work is to Amend Permit ALT347244. Elimin...    Patrick Sharkey   \n",
       "1  Change connector link layout from attached enc...  Renee Santeusanio   \n",
       "2  Amend Alt943748 to erect a roof deck as per pl...   Jusimar Oliveria   \n",
       "3  Build steel balcony over garden level with sta...      Andreas Hwang   \n",
       "4  Landscaping/stonework - amending permit #2801/...                NaN   \n",
       "\n",
       "   declared_valuation  total_fees          issued_date      expiration_date  \\\n",
       "0            36500.00       390.0  2021-01-28 11:29:26  2021-07-28 00:00:00   \n",
       "1            40000.00       429.0  2011-11-04 11:04:58  2012-05-04 00:00:00   \n",
       "2             5000.00        70.0  2020-06-01 14:08:47                        \n",
       "3            74295.75       803.0  2019-11-13 13:38:56  2020-05-13 00:00:00   \n",
       "4            15000.00       206.0  2013-01-03 14:13:09  2013-07-03 00:00:00   \n",
       "\n",
       "   ... occupancytype sq_feet                    address          city state  \\\n",
       "0  ...         Mixed     0.0         181-183   State ST        Boston    MA   \n",
       "1  ...          Comm   170.0         175  W Boundary RD  West Roxbury    MA   \n",
       "2  ...        1-3FAM     0.0          15    Prospect ST   Charlestown    MA   \n",
       "3  ...         Multi     0.0      211  W Springfield ST       Roxbury    MA   \n",
       "4  ...        1-2FAM     0.0  14    William Jackson AVE      Brighton    MA   \n",
       "\n",
       "     zip property_id   parcel_id        lat       long  \n",
       "0  02109      130392  0303807000  42.359190 -71.052924  \n",
       "1  02132       17268  2012032000  42.260750 -71.149610  \n",
       "2  02129      113443  0202837000  42.375243 -71.057585  \n",
       "3  02118      129994  0402558000  42.340600 -71.080250  \n",
       "4  02135      149852  2204944000  42.344600 -71.154050  \n",
       "\n",
       "[5 rows x 22 columns]"
      ]
     },
     "execution_count": 109,
     "metadata": {},
     "output_type": "execute_result"
    }
   ],
   "source": [
    "df.head()"
   ]
  },
  {
   "cell_type": "markdown",
   "metadata": {},
   "source": [
    "## Check if there are any duplicate permits:"
   ]
  },
  {
   "cell_type": "code",
   "execution_count": 110,
   "metadata": {},
   "outputs": [
    {
     "name": "stdout",
     "output_type": "stream",
     "text": [
      "Number of records before removing duplicates: 523418\n",
      "Removed 0 duplicates.\n"
     ]
    }
   ],
   "source": [
    "data_size = df.shape[0]\n",
    "print(f\"Number of records before removing duplicates: {data_size}\")\n",
    "df.drop_duplicates(subset=['permitnumber'])\n",
    "data_size_after_drop = df.shape[0]\n",
    "removed = data_size - data_size_after_drop\n",
    "print(f\"Removed {removed} duplicates.\")"
   ]
  },
  {
   "cell_type": "markdown",
   "metadata": {},
   "source": [
    "## Drop columns that will not be used:"
   ]
  },
  {
   "cell_type": "code",
   "execution_count": 111,
   "metadata": {},
   "outputs": [
    {
     "data": {
      "text/html": [
       "<div>\n",
       "<style scoped>\n",
       "    .dataframe tbody tr th:only-of-type {\n",
       "        vertical-align: middle;\n",
       "    }\n",
       "\n",
       "    .dataframe tbody tr th {\n",
       "        vertical-align: top;\n",
       "    }\n",
       "\n",
       "    .dataframe thead th {\n",
       "        text-align: right;\n",
       "    }\n",
       "</style>\n",
       "<table border=\"1\" class=\"dataframe\">\n",
       "  <thead>\n",
       "    <tr style=\"text-align: right;\">\n",
       "      <th></th>\n",
       "      <th>permittypedescr</th>\n",
       "      <th>comments</th>\n",
       "    </tr>\n",
       "  </thead>\n",
       "  <tbody>\n",
       "    <tr>\n",
       "      <th>0</th>\n",
       "      <td>Amendment to a Long Form</td>\n",
       "      <td>This work is to Amend Permit ALT347244. Elimin...</td>\n",
       "    </tr>\n",
       "    <tr>\n",
       "      <th>1</th>\n",
       "      <td>Amendment to a Long Form</td>\n",
       "      <td>Change connector link layout from attached enc...</td>\n",
       "    </tr>\n",
       "    <tr>\n",
       "      <th>2</th>\n",
       "      <td>Amendment to a Long Form</td>\n",
       "      <td>Amend Alt943748 to erect a roof deck as per pl...</td>\n",
       "    </tr>\n",
       "    <tr>\n",
       "      <th>3</th>\n",
       "      <td>Amendment to a Long Form</td>\n",
       "      <td>Build steel balcony over garden level with sta...</td>\n",
       "    </tr>\n",
       "    <tr>\n",
       "      <th>4</th>\n",
       "      <td>Amendment to a Long Form</td>\n",
       "      <td>Landscaping/stonework - amending permit #2801/...</td>\n",
       "    </tr>\n",
       "  </tbody>\n",
       "</table>\n",
       "</div>"
      ],
      "text/plain": [
       "            permittypedescr                                           comments\n",
       "0  Amendment to a Long Form  This work is to Amend Permit ALT347244. Elimin...\n",
       "1  Amendment to a Long Form  Change connector link layout from attached enc...\n",
       "2  Amendment to a Long Form  Amend Alt943748 to erect a roof deck as per pl...\n",
       "3  Amendment to a Long Form  Build steel balcony over garden level with sta...\n",
       "4  Amendment to a Long Form  Landscaping/stonework - amending permit #2801/..."
      ]
     },
     "execution_count": 111,
     "metadata": {},
     "output_type": "execute_result"
    }
   ],
   "source": [
    "keep_cols = ['permittypedescr', 'comments']\n",
    "df = df[keep_cols]\n",
    "df.head()"
   ]
  },
  {
   "cell_type": "markdown",
   "metadata": {},
   "source": [
    "## Change the column names to match other datasets"
   ]
  },
  {
   "cell_type": "code",
   "execution_count": 112,
   "metadata": {},
   "outputs": [],
   "source": [
    "df = df.rename(columns={\"permittypedescr\": PERMIT_TYPE_DEF_COL, \"comments\": PERMIT_DESC_COL})"
   ]
  },
  {
   "cell_type": "markdown",
   "metadata": {},
   "source": [
    "## Replace empty values with NaN and display rows that have NaN values"
   ]
  },
  {
   "cell_type": "code",
   "execution_count": 113,
   "metadata": {},
   "outputs": [
    {
     "data": {
      "text/html": [
       "<div>\n",
       "<style scoped>\n",
       "    .dataframe tbody tr th:only-of-type {\n",
       "        vertical-align: middle;\n",
       "    }\n",
       "\n",
       "    .dataframe tbody tr th {\n",
       "        vertical-align: top;\n",
       "    }\n",
       "\n",
       "    .dataframe thead th {\n",
       "        text-align: right;\n",
       "    }\n",
       "</style>\n",
       "<table border=\"1\" class=\"dataframe\">\n",
       "  <thead>\n",
       "    <tr style=\"text-align: right;\">\n",
       "      <th></th>\n",
       "      <th>Permit Type Definition</th>\n",
       "      <th>Description</th>\n",
       "    </tr>\n",
       "  </thead>\n",
       "  <tbody>\n",
       "    <tr>\n",
       "      <th>94956</th>\n",
       "      <td>Electrical Permit</td>\n",
       "      <td>NaN</td>\n",
       "    </tr>\n",
       "    <tr>\n",
       "      <th>99667</th>\n",
       "      <td>Electrical Permit</td>\n",
       "      <td>NaN</td>\n",
       "    </tr>\n",
       "    <tr>\n",
       "      <th>99718</th>\n",
       "      <td>Electrical Permit</td>\n",
       "      <td>NaN</td>\n",
       "    </tr>\n",
       "    <tr>\n",
       "      <th>99990</th>\n",
       "      <td>Electrical Permit</td>\n",
       "      <td>NaN</td>\n",
       "    </tr>\n",
       "    <tr>\n",
       "      <th>107320</th>\n",
       "      <td>Electrical Permit</td>\n",
       "      <td>NaN</td>\n",
       "    </tr>\n",
       "    <tr>\n",
       "      <th>...</th>\n",
       "      <td>...</td>\n",
       "      <td>...</td>\n",
       "    </tr>\n",
       "    <tr>\n",
       "      <th>377195</th>\n",
       "      <td>Plumbing Permit</td>\n",
       "      <td>NaN</td>\n",
       "    </tr>\n",
       "    <tr>\n",
       "      <th>377977</th>\n",
       "      <td>Plumbing Permit</td>\n",
       "      <td>NaN</td>\n",
       "    </tr>\n",
       "    <tr>\n",
       "      <th>378987</th>\n",
       "      <td>Plumbing Permit</td>\n",
       "      <td>NaN</td>\n",
       "    </tr>\n",
       "    <tr>\n",
       "      <th>380347</th>\n",
       "      <td>Plumbing Permit</td>\n",
       "      <td>NaN</td>\n",
       "    </tr>\n",
       "    <tr>\n",
       "      <th>401270</th>\n",
       "      <td>Short Form Bldg Permit</td>\n",
       "      <td>NaN</td>\n",
       "    </tr>\n",
       "  </tbody>\n",
       "</table>\n",
       "<p>160 rows × 2 columns</p>\n",
       "</div>"
      ],
      "text/plain": [
       "        Permit Type Definition Description\n",
       "94956        Electrical Permit         NaN\n",
       "99667        Electrical Permit         NaN\n",
       "99718        Electrical Permit         NaN\n",
       "99990        Electrical Permit         NaN\n",
       "107320       Electrical Permit         NaN\n",
       "...                        ...         ...\n",
       "377195         Plumbing Permit         NaN\n",
       "377977         Plumbing Permit         NaN\n",
       "378987         Plumbing Permit         NaN\n",
       "380347         Plumbing Permit         NaN\n",
       "401270  Short Form Bldg Permit         NaN\n",
       "\n",
       "[160 rows x 2 columns]"
      ]
     },
     "execution_count": 113,
     "metadata": {},
     "output_type": "execute_result"
    }
   ],
   "source": [
    "df = df.replace(' ', np.nan)\n",
    "nan_values = df[df.isna().any(axis=1)]\n",
    "nan_values"
   ]
  },
  {
   "cell_type": "markdown",
   "metadata": {},
   "source": [
    "## Drop rows where at least one element is missing"
   ]
  },
  {
   "cell_type": "code",
   "execution_count": 114,
   "metadata": {},
   "outputs": [
    {
     "data": {
      "text/html": [
       "<div>\n",
       "<style scoped>\n",
       "    .dataframe tbody tr th:only-of-type {\n",
       "        vertical-align: middle;\n",
       "    }\n",
       "\n",
       "    .dataframe tbody tr th {\n",
       "        vertical-align: top;\n",
       "    }\n",
       "\n",
       "    .dataframe thead th {\n",
       "        text-align: right;\n",
       "    }\n",
       "</style>\n",
       "<table border=\"1\" class=\"dataframe\">\n",
       "  <thead>\n",
       "    <tr style=\"text-align: right;\">\n",
       "      <th></th>\n",
       "      <th>Permit Type Definition</th>\n",
       "      <th>Description</th>\n",
       "    </tr>\n",
       "  </thead>\n",
       "  <tbody>\n",
       "    <tr>\n",
       "      <th>0</th>\n",
       "      <td>Amendment to a Long Form</td>\n",
       "      <td>This work is to Amend Permit ALT347244. Elimin...</td>\n",
       "    </tr>\n",
       "    <tr>\n",
       "      <th>1</th>\n",
       "      <td>Amendment to a Long Form</td>\n",
       "      <td>Change connector link layout from attached enc...</td>\n",
       "    </tr>\n",
       "    <tr>\n",
       "      <th>2</th>\n",
       "      <td>Amendment to a Long Form</td>\n",
       "      <td>Amend Alt943748 to erect a roof deck as per pl...</td>\n",
       "    </tr>\n",
       "    <tr>\n",
       "      <th>3</th>\n",
       "      <td>Amendment to a Long Form</td>\n",
       "      <td>Build steel balcony over garden level with sta...</td>\n",
       "    </tr>\n",
       "    <tr>\n",
       "      <th>4</th>\n",
       "      <td>Amendment to a Long Form</td>\n",
       "      <td>Landscaping/stonework - amending permit #2801/...</td>\n",
       "    </tr>\n",
       "    <tr>\n",
       "      <th>...</th>\n",
       "      <td>...</td>\n",
       "      <td>...</td>\n",
       "    </tr>\n",
       "    <tr>\n",
       "      <th>523413</th>\n",
       "      <td>Use of Premises</td>\n",
       "      <td>Outdoor patio / amenity space for commercial o...</td>\n",
       "    </tr>\n",
       "    <tr>\n",
       "      <th>523414</th>\n",
       "      <td>Use of Premises</td>\n",
       "      <td>Outdoor patio / amenity space for commercial o...</td>\n",
       "    </tr>\n",
       "    <tr>\n",
       "      <th>523415</th>\n",
       "      <td>Use of Premises</td>\n",
       "      <td>Temporary Construction Trailer at Herb Chamber...</td>\n",
       "    </tr>\n",
       "    <tr>\n",
       "      <th>523416</th>\n",
       "      <td>Use of Premises</td>\n",
       "      <td>Owners would like to install a curb cut and a ...</td>\n",
       "    </tr>\n",
       "    <tr>\n",
       "      <th>523417</th>\n",
       "      <td>Use of Premises</td>\n",
       "      <td>use of premises for;1 car parking with new dri...</td>\n",
       "    </tr>\n",
       "  </tbody>\n",
       "</table>\n",
       "<p>523258 rows × 2 columns</p>\n",
       "</div>"
      ],
      "text/plain": [
       "          Permit Type Definition  \\\n",
       "0       Amendment to a Long Form   \n",
       "1       Amendment to a Long Form   \n",
       "2       Amendment to a Long Form   \n",
       "3       Amendment to a Long Form   \n",
       "4       Amendment to a Long Form   \n",
       "...                          ...   \n",
       "523413           Use of Premises   \n",
       "523414           Use of Premises   \n",
       "523415           Use of Premises   \n",
       "523416           Use of Premises   \n",
       "523417           Use of Premises   \n",
       "\n",
       "                                              Description  \n",
       "0       This work is to Amend Permit ALT347244. Elimin...  \n",
       "1       Change connector link layout from attached enc...  \n",
       "2       Amend Alt943748 to erect a roof deck as per pl...  \n",
       "3       Build steel balcony over garden level with sta...  \n",
       "4       Landscaping/stonework - amending permit #2801/...  \n",
       "...                                                   ...  \n",
       "523413  Outdoor patio / amenity space for commercial o...  \n",
       "523414  Outdoor patio / amenity space for commercial o...  \n",
       "523415  Temporary Construction Trailer at Herb Chamber...  \n",
       "523416  Owners would like to install a curb cut and a ...  \n",
       "523417  use of premises for;1 car parking with new dri...  \n",
       "\n",
       "[523258 rows x 2 columns]"
      ]
     },
     "execution_count": 114,
     "metadata": {},
     "output_type": "execute_result"
    }
   ],
   "source": [
    "df.dropna()"
   ]
  },
  {
   "cell_type": "markdown",
   "metadata": {},
   "source": [
    "## Display the count for each permit type"
   ]
  },
  {
   "cell_type": "code",
   "execution_count": 115,
   "metadata": {},
   "outputs": [
    {
     "data": {
      "text/plain": [
       "Short Form Bldg Permit          141184\n",
       "Electrical Permit               109867\n",
       "Plumbing Permit                  70067\n",
       "Gas Permit                       51918\n",
       "Electrical Low Voltage           42337\n",
       "Long Form/Alteration Permit      34702\n",
       "Electrical Fire Alarms           28540\n",
       "Certificate of Occupancy         18589\n",
       "Excavation Permit                11080\n",
       "Electrical Temporary Service      7188\n",
       "Amendment to a Long Form          3975\n",
       "Erect/New Construction            2591\n",
       "Use of Premises                   1290\n",
       "Foundation Permit                   90\n",
       "Name: Permit Type Definition, dtype: int64"
      ]
     },
     "execution_count": 115,
     "metadata": {},
     "output_type": "execute_result"
    }
   ],
   "source": [
    "df[PERMIT_TYPE_DEF_COL].value_counts()"
   ]
  },
  {
   "cell_type": "markdown",
   "metadata": {},
   "source": [
    "## Data Graphs"
   ]
  },
  {
   "cell_type": "code",
   "execution_count": 116,
   "metadata": {},
   "outputs": [
    {
     "data": {
      "text/plain": [
       "<AxesSubplot:title={'center':'Permit Type Distribution'}, ylabel='Type Count'>"
      ]
     },
     "execution_count": 116,
     "metadata": {},
     "output_type": "execute_result"
    },
    {
     "data": {
      "image/png": "[encoded data removed]",
      "text/plain": [
       "<Figure size 720x720 with 1 Axes>"
      ]
     },
     "metadata": {
      "needs_background": "light"
     },
     "output_type": "display_data"
    }
   ],
   "source": [
    "df[PERMIT_TYPE_DEF_COL].value_counts().plot.bar(figsize=(10,10), grid=True, title='Permit Type Distribution', ylabel='Type Count')"
   ]
  },
  {
   "cell_type": "markdown",
   "metadata": {},
   "source": [
    "# Map the types into Mechanical, Building, Electrical and Plumbing"
   ]
  },
  {
   "cell_type": "code",
   "execution_count": 117,
   "metadata": {},
   "outputs": [
    {
     "data": {
      "text/html": [
       "<div>\n",
       "<style scoped>\n",
       "    .dataframe tbody tr th:only-of-type {\n",
       "        vertical-align: middle;\n",
       "    }\n",
       "\n",
       "    .dataframe tbody tr th {\n",
       "        vertical-align: top;\n",
       "    }\n",
       "\n",
       "    .dataframe thead th {\n",
       "        text-align: right;\n",
       "    }\n",
       "</style>\n",
       "<table border=\"1\" class=\"dataframe\">\n",
       "  <thead>\n",
       "    <tr style=\"text-align: right;\">\n",
       "      <th></th>\n",
       "      <th>Permit Type Definition</th>\n",
       "      <th>Description</th>\n",
       "    </tr>\n",
       "  </thead>\n",
       "  <tbody>\n",
       "    <tr>\n",
       "      <th>0</th>\n",
       "      <td>Building Permit</td>\n",
       "      <td>This work is to Amend Permit ALT347244. Elimin...</td>\n",
       "    </tr>\n",
       "    <tr>\n",
       "      <th>1</th>\n",
       "      <td>Building Permit</td>\n",
       "      <td>Change connector link layout from attached enc...</td>\n",
       "    </tr>\n",
       "    <tr>\n",
       "      <th>2</th>\n",
       "      <td>Building Permit</td>\n",
       "      <td>Amend Alt943748 to erect a roof deck as per pl...</td>\n",
       "    </tr>\n",
       "    <tr>\n",
       "      <th>3</th>\n",
       "      <td>Building Permit</td>\n",
       "      <td>Build steel balcony over garden level with sta...</td>\n",
       "    </tr>\n",
       "    <tr>\n",
       "      <th>4</th>\n",
       "      <td>Building Permit</td>\n",
       "      <td>Landscaping/stonework - amending permit #2801/...</td>\n",
       "    </tr>\n",
       "  </tbody>\n",
       "</table>\n",
       "</div>"
      ],
      "text/plain": [
       "  Permit Type Definition                                        Description\n",
       "0        Building Permit  This work is to Amend Permit ALT347244. Elimin...\n",
       "1        Building Permit  Change connector link layout from attached enc...\n",
       "2        Building Permit  Amend Alt943748 to erect a roof deck as per pl...\n",
       "3        Building Permit  Build steel balcony over garden level with sta...\n",
       "4        Building Permit  Landscaping/stonework - amending permit #2801/..."
      ]
     },
     "execution_count": 117,
     "metadata": {},
     "output_type": "execute_result"
    }
   ],
   "source": [
    "mappings = {\n",
    "    \"Electrical Permit\": ['Electrical Low Voltage', 'Electrical Permit', 'Electrical Fire Alarms', 'Electrical Temporary Service'],\n",
    "    \"Mechanical Permit\": ['Gas Permit'],\n",
    "    \"Building Permit\": ['Short Form Bldg Permit', 'Foundation Permit', 'Amendment to a Long Form', 'Long Form/Alteration Permit', 'Certificate of Occupancy', 'Excavation Permit', 'Erect/New Construction', 'Use of Premises'],\n",
    "    \"Plumbing Permit\": ['Plumbing Permit ']\n",
    "}\n",
    "\n",
    "for permit_type in mappings:\n",
    "    for sub_type in mappings[permit_type]:\n",
    "        df.loc[(getattr(df, PERMIT_TYPE_DEF_COL) == sub_type), PERMIT_TYPE_DEF_COL] = permit_type\n",
    "\n",
    "df.head()"
   ]
  },
  {
   "cell_type": "markdown",
   "metadata": {},
   "source": [
    "## Display the count for each permit type after mapping"
   ]
  },
  {
   "cell_type": "code",
   "execution_count": 118,
   "metadata": {},
   "outputs": [
    {
     "data": {
      "text/plain": [
       "Building Permit      213501\n",
       "Electrical Permit    187932\n",
       "Plumbing Permit       70067\n",
       "Mechanical Permit     51918\n",
       "Name: Permit Type Definition, dtype: int64"
      ]
     },
     "execution_count": 118,
     "metadata": {},
     "output_type": "execute_result"
    }
   ],
   "source": [
    "df[PERMIT_TYPE_DEF_COL].value_counts()"
   ]
  },
  {
   "cell_type": "markdown",
   "metadata": {},
   "source": [
    "# ML Playground"
   ]
  },
  {
   "cell_type": "markdown",
   "metadata": {},
   "source": [
    "## Grab X data"
   ]
  },
  {
   "cell_type": "code",
   "execution_count": 119,
   "metadata": {},
   "outputs": [
    {
     "data": {
      "text/html": [
       "<div>\n",
       "<style scoped>\n",
       "    .dataframe tbody tr th:only-of-type {\n",
       "        vertical-align: middle;\n",
       "    }\n",
       "\n",
       "    .dataframe tbody tr th {\n",
       "        vertical-align: top;\n",
       "    }\n",
       "\n",
       "    .dataframe thead th {\n",
       "        text-align: right;\n",
       "    }\n",
       "</style>\n",
       "<table border=\"1\" class=\"dataframe\">\n",
       "  <thead>\n",
       "    <tr style=\"text-align: right;\">\n",
       "      <th></th>\n",
       "      <th>Description</th>\n",
       "    </tr>\n",
       "  </thead>\n",
       "  <tbody>\n",
       "    <tr>\n",
       "      <th>0</th>\n",
       "      <td>This work is to Amend Permit ALT347244. Elimin...</td>\n",
       "    </tr>\n",
       "    <tr>\n",
       "      <th>1</th>\n",
       "      <td>Change connector link layout from attached enc...</td>\n",
       "    </tr>\n",
       "    <tr>\n",
       "      <th>2</th>\n",
       "      <td>Amend Alt943748 to erect a roof deck as per pl...</td>\n",
       "    </tr>\n",
       "    <tr>\n",
       "      <th>3</th>\n",
       "      <td>Build steel balcony over garden level with sta...</td>\n",
       "    </tr>\n",
       "    <tr>\n",
       "      <th>4</th>\n",
       "      <td>Landscaping/stonework - amending permit #2801/...</td>\n",
       "    </tr>\n",
       "  </tbody>\n",
       "</table>\n",
       "</div>"
      ],
      "text/plain": [
       "                                         Description\n",
       "0  This work is to Amend Permit ALT347244. Elimin...\n",
       "1  Change connector link layout from attached enc...\n",
       "2  Amend Alt943748 to erect a roof deck as per pl...\n",
       "3  Build steel balcony over garden level with sta...\n",
       "4  Landscaping/stonework - amending permit #2801/..."
      ]
     },
     "execution_count": 119,
     "metadata": {},
     "output_type": "execute_result"
    }
   ],
   "source": [
    "X = df.drop(columns=[PERMIT_TYPE_DEF_COL])\n",
    "X.head()"
   ]
  },
  {
   "cell_type": "markdown",
   "metadata": {},
   "source": [
    "## Grab y data (Labels)"
   ]
  },
  {
   "cell_type": "code",
   "execution_count": 120,
   "metadata": {},
   "outputs": [
    {
     "data": {
      "text/plain": [
       "0    Building Permit\n",
       "1    Building Permit\n",
       "2    Building Permit\n",
       "3    Building Permit\n",
       "4    Building Permit\n",
       "Name: Permit Type Definition, dtype: object"
      ]
     },
     "execution_count": 120,
     "metadata": {},
     "output_type": "execute_result"
    }
   ],
   "source": [
    "y = getattr(df, PERMIT_TYPE_DEF_COL)\n",
    "y.head()"
   ]
  },
  {
   "cell_type": "markdown",
   "metadata": {},
   "source": [
    "## Export X and y data to CSV"
   ]
  },
  {
   "cell_type": "code",
   "execution_count": 121,
   "metadata": {},
   "outputs": [],
   "source": [
    "df.to_csv(path_or_buf=f'../datasets/clean_{CITY}DataSet.csv', index=False)"
   ]
  },
  {
   "cell_type": "markdown",
   "metadata": {},
   "source": [
    "## Uncommnet the following if you would like to separate the X and y datasets into different files"
   ]
  },
  {
   "cell_type": "code",
   "execution_count": 122,
   "metadata": {},
   "outputs": [],
   "source": [
    "# X.to_csv(path_or_buf=f'../datasets/X_{CITY}DataSet.csv', index=False)"
   ]
  },
  {
   "cell_type": "code",
   "execution_count": 123,
   "metadata": {},
   "outputs": [],
   "source": [
    "# y.to_csv(path_or_buf=f'../datasets/y_{CITY}DataSet.csv', index=False)"
   ]
  }
 ],
 "metadata": {
  "interpreter": {
   "hash": "31f2aee4e71d21fbe5cf8b01ff0e069b9275f58929596ceb00d14d90e3e16cd6"
  },
  "kernelspec": {
   "display_name": "Python 3.8.2 64-bit",
   "name": "python3"
  },
  "language_info": {
   "codemirror_mode": {
    "name": "ipython",
    "version": 3
   },
   "file_extension": ".py",
   "mimetype": "text/x-python",
   "name": "python",
   "nbconvert_exporter": "python",
   "pygments_lexer": "ipython3",
   "version": "3.8.2"
  },
  "orig_nbformat": 2
 },
 "nbformat": 4,
 "nbformat_minor": 2
}
