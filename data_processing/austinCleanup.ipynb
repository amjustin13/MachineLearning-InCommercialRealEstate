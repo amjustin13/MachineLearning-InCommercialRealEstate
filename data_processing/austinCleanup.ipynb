{
 "cells": [
  {
   "cell_type": "markdown",
   "metadata": {},
   "source": [
    "# This Jupyter script will cleanup the data for the Austin permit dataset found here: [Austin Data](https://www.opendatanetwork.com/dataset/data.austintexas.gov/3syk-w9eu)"
   ]
  },
  {
   "cell_type": "markdown",
   "metadata": {},
   "source": [
    "The following script assumes that the data sets have been downloaded and stored within the `datasets` directory."
   ]
  },
  {
   "cell_type": "code",
   "execution_count": 53,
   "id": "8ae641fd",
   "metadata": {
    "scrolled": false
   },
   "outputs": [],
   "source": [
    "import pandas as pd\n",
    "import numpy as np\n",
    "import os\n",
    "df = pd.read_csv('../datasets/Austin_Permits.csv', low_memory = False, encoding='utf-8')"
   ]
  },
  {
   "cell_type": "code",
   "execution_count": 54,
   "id": "77f3154f",
   "metadata": {},
   "outputs": [
    {
     "data": {
      "text/html": [
       "<div>\n",
       "<style scoped>\n",
       "    .dataframe tbody tr th:only-of-type {\n",
       "        vertical-align: middle;\n",
       "    }\n",
       "\n",
       "    .dataframe tbody tr th {\n",
       "        vertical-align: top;\n",
       "    }\n",
       "\n",
       "    .dataframe thead th {\n",
       "        text-align: right;\n",
       "    }\n",
       "</style>\n",
       "<table border=\"1\" class=\"dataframe\">\n",
       "  <thead>\n",
       "    <tr style=\"text-align: right;\">\n",
       "      <th></th>\n",
       "      <th>Permit Type</th>\n",
       "      <th>Permit Type Desc</th>\n",
       "      <th>Permit Num</th>\n",
       "      <th>Permit Class Mapped</th>\n",
       "      <th>Permit Class</th>\n",
       "      <th>Work Class</th>\n",
       "      <th>Condominium</th>\n",
       "      <th>Project Name</th>\n",
       "      <th>Description</th>\n",
       "      <th>TCAD ID</th>\n",
       "      <th>...</th>\n",
       "      <th>Contractor Zip</th>\n",
       "      <th>Applicant Full Name</th>\n",
       "      <th>Applicant Organization</th>\n",
       "      <th>Applicant Phone</th>\n",
       "      <th>Applicant Address 1</th>\n",
       "      <th>Applicant Address 2</th>\n",
       "      <th>Applicant City</th>\n",
       "      <th>Applicant Zip</th>\n",
       "      <th>Certificate Of Occupancy</th>\n",
       "      <th>Total Lot SQFT</th>\n",
       "    </tr>\n",
       "  </thead>\n",
       "  <tbody>\n",
       "    <tr>\n",
       "      <th>0</th>\n",
       "      <td>EP</td>\n",
       "      <td>Electrical Permit</td>\n",
       "      <td>1985-024664 EP</td>\n",
       "      <td>Residential</td>\n",
       "      <td>Residential</td>\n",
       "      <td>Remodel</td>\n",
       "      <td>No</td>\n",
       "      <td>1403 City Park Road                C  00000</td>\n",
       "      <td>Bldg Repairs</td>\n",
       "      <td>NaN</td>\n",
       "      <td>...</td>\n",
       "      <td>NaN</td>\n",
       "      <td>NaN</td>\n",
       "      <td>NaN</td>\n",
       "      <td>NaN</td>\n",
       "      <td>NaN</td>\n",
       "      <td>NaN</td>\n",
       "      <td>NaN</td>\n",
       "      <td>NaN</td>\n",
       "      <td>No</td>\n",
       "      <td>NaN</td>\n",
       "    </tr>\n",
       "    <tr>\n",
       "      <th>1</th>\n",
       "      <td>EP</td>\n",
       "      <td>Electrical Permit</td>\n",
       "      <td>1985-018847 EP</td>\n",
       "      <td>Commercial</td>\n",
       "      <td>Commercial</td>\n",
       "      <td>Remodel</td>\n",
       "      <td>No</td>\n",
       "      <td>2929 Bee Caves Road                H B00000</td>\n",
       "      <td>Shell Bldg Bldg B</td>\n",
       "      <td>NaN</td>\n",
       "      <td>...</td>\n",
       "      <td>NaN</td>\n",
       "      <td>NaN</td>\n",
       "      <td>NaN</td>\n",
       "      <td>NaN</td>\n",
       "      <td>NaN</td>\n",
       "      <td>NaN</td>\n",
       "      <td>NaN</td>\n",
       "      <td>NaN</td>\n",
       "      <td>No</td>\n",
       "      <td>NaN</td>\n",
       "    </tr>\n",
       "    <tr>\n",
       "      <th>2</th>\n",
       "      <td>EP</td>\n",
       "      <td>Electrical Permit</td>\n",
       "      <td>1987-016991 EP</td>\n",
       "      <td>Commercial</td>\n",
       "      <td>Sign Permit</td>\n",
       "      <td>NaN</td>\n",
       "      <td>No</td>\n",
       "      <td>5211 Mc Carty Lane                 A  00000</td>\n",
       "      <td>Berm Sign For Church</td>\n",
       "      <td>NaN</td>\n",
       "      <td>...</td>\n",
       "      <td>NaN</td>\n",
       "      <td>NaN</td>\n",
       "      <td>NaN</td>\n",
       "      <td>NaN</td>\n",
       "      <td>NaN</td>\n",
       "      <td>NaN</td>\n",
       "      <td>NaN</td>\n",
       "      <td>NaN</td>\n",
       "      <td>No</td>\n",
       "      <td>NaN</td>\n",
       "    </tr>\n",
       "    <tr>\n",
       "      <th>3</th>\n",
       "      <td>BP</td>\n",
       "      <td>Building Permit</td>\n",
       "      <td>1984-024176 BP</td>\n",
       "      <td>Residential</td>\n",
       "      <td>Residential</td>\n",
       "      <td>Remodel</td>\n",
       "      <td>No</td>\n",
       "      <td>13333 Morris Road                   R  00000</td>\n",
       "      <td>Duplex</td>\n",
       "      <td>NaN</td>\n",
       "      <td>...</td>\n",
       "      <td>NaN</td>\n",
       "      <td>NaN</td>\n",
       "      <td>NaN</td>\n",
       "      <td>NaN</td>\n",
       "      <td>NaN</td>\n",
       "      <td>NaN</td>\n",
       "      <td>NaN</td>\n",
       "      <td>NaN</td>\n",
       "      <td>No</td>\n",
       "      <td>NaN</td>\n",
       "    </tr>\n",
       "    <tr>\n",
       "      <th>4</th>\n",
       "      <td>BP</td>\n",
       "      <td>Building Permit</td>\n",
       "      <td>1987-015505 BP</td>\n",
       "      <td>Commercial</td>\n",
       "      <td>C-1000 Commercial Remodel</td>\n",
       "      <td>Remodel</td>\n",
       "      <td>No</td>\n",
       "      <td>104  6 Street East                A  00100</td>\n",
       "      <td>Remodel To Create Rollin Donuts</td>\n",
       "      <td>NaN</td>\n",
       "      <td>...</td>\n",
       "      <td>NaN</td>\n",
       "      <td>NaN</td>\n",
       "      <td>NaN</td>\n",
       "      <td>NaN</td>\n",
       "      <td>NaN</td>\n",
       "      <td>NaN</td>\n",
       "      <td>NaN</td>\n",
       "      <td>NaN</td>\n",
       "      <td>Yes</td>\n",
       "      <td>NaN</td>\n",
       "    </tr>\n",
       "  </tbody>\n",
       "</table>\n",
       "<p>5 rows × 68 columns</p>\n",
       "</div>"
      ],
      "text/plain": [
       "  Permit Type   Permit Type Desc      Permit Num Permit Class Mapped  \\\n",
       "0          EP  Electrical Permit  1985-024664 EP         Residential   \n",
       "1          EP  Electrical Permit  1985-018847 EP          Commercial   \n",
       "2          EP  Electrical Permit  1987-016991 EP          Commercial   \n",
       "3          BP    Building Permit  1984-024176 BP         Residential   \n",
       "4          BP    Building Permit  1987-015505 BP          Commercial   \n",
       "\n",
       "                Permit Class Work Class Condominium  \\\n",
       "0                Residential    Remodel          No   \n",
       "1                 Commercial    Remodel          No   \n",
       "2                Sign Permit        NaN          No   \n",
       "3                Residential    Remodel          No   \n",
       "4  C-1000 Commercial Remodel    Remodel          No   \n",
       "\n",
       "                                   Project Name  \\\n",
       "0   1403 City Park Road                C  00000   \n",
       "1   2929 Bee Caves Road                H B00000   \n",
       "2   5211 Mc Carty Lane                 A  00000   \n",
       "3  13333 Morris Road                   R  00000   \n",
       "4    104  6 Street East                A  00100   \n",
       "\n",
       "                       Description TCAD ID  ... Contractor Zip  \\\n",
       "0                     Bldg Repairs     NaN  ...            NaN   \n",
       "1                Shell Bldg Bldg B     NaN  ...            NaN   \n",
       "2             Berm Sign For Church     NaN  ...            NaN   \n",
       "3                           Duplex     NaN  ...            NaN   \n",
       "4  Remodel To Create Rollin Donuts     NaN  ...            NaN   \n",
       "\n",
       "  Applicant Full Name Applicant Organization Applicant Phone  \\\n",
       "0                 NaN                    NaN             NaN   \n",
       "1                 NaN                    NaN             NaN   \n",
       "2                 NaN                    NaN             NaN   \n",
       "3                 NaN                    NaN             NaN   \n",
       "4                 NaN                    NaN             NaN   \n",
       "\n",
       "   Applicant Address 1  Applicant Address 2 Applicant City Applicant Zip  \\\n",
       "0                  NaN                  NaN            NaN           NaN   \n",
       "1                  NaN                  NaN            NaN           NaN   \n",
       "2                  NaN                  NaN            NaN           NaN   \n",
       "3                  NaN                  NaN            NaN           NaN   \n",
       "4                  NaN                  NaN            NaN           NaN   \n",
       "\n",
       "  Certificate Of Occupancy Total Lot SQFT  \n",
       "0                       No            NaN  \n",
       "1                       No            NaN  \n",
       "2                       No            NaN  \n",
       "3                       No            NaN  \n",
       "4                      Yes            NaN  \n",
       "\n",
       "[5 rows x 68 columns]"
      ]
     },
     "execution_count": 54,
     "metadata": {},
     "output_type": "execute_result"
    }
   ],
   "source": [
    "df.head()"
   ]
  },
  {
   "cell_type": "markdown",
   "metadata": {},
   "source": [
    "## Define some global variables"
   ]
  },
  {
   "cell_type": "code",
   "execution_count": 55,
   "metadata": {},
   "outputs": [],
   "source": [
    "CITY = 'Austin'\n",
    "\n",
    "# DATASET COLUMNS\n",
    "PERMIT_TYPE_DEF_COL = 'Permit Type Definition'\n",
    "PERMIT_DESC_COL = 'Description'"
   ]
  },
  {
   "cell_type": "markdown",
   "metadata": {},
   "source": [
    "## Rename columns to match other datasets"
   ]
  },
  {
   "cell_type": "code",
   "execution_count": 56,
   "metadata": {},
   "outputs": [],
   "source": [
    "df = df.rename(columns={\"Permit Type Desc\": PERMIT_TYPE_DEF_COL})"
   ]
  },
  {
   "cell_type": "markdown",
   "metadata": {},
   "source": [
    "## Check if there are any duplicate permits:"
   ]
  },
  {
   "cell_type": "code",
   "execution_count": 57,
   "metadata": {},
   "outputs": [
    {
     "name": "stdout",
     "output_type": "stream",
     "text": [
      "Number of records before removing duplicates: 2090115\n",
      "Removed 0 duplicates.\n"
     ]
    }
   ],
   "source": [
    "data_size = df.shape[0]\n",
    "print(f\"Number of records before removing duplicates: {data_size}\")\n",
    "df.drop_duplicates(subset=['Description'])\n",
    "data_size_after_drop = df.shape[0]\n",
    "removed = data_size - data_size_after_drop\n",
    "print(f\"Removed {removed} duplicates.\")"
   ]
  },
  {
   "cell_type": "markdown",
   "metadata": {},
   "source": [
    "## Drop columns that will not be used:"
   ]
  },
  {
   "cell_type": "code",
   "execution_count": 58,
   "id": "e38fc564",
   "metadata": {},
   "outputs": [
    {
     "data": {
      "text/html": [
       "<div>\n",
       "<style scoped>\n",
       "    .dataframe tbody tr th:only-of-type {\n",
       "        vertical-align: middle;\n",
       "    }\n",
       "\n",
       "    .dataframe tbody tr th {\n",
       "        vertical-align: top;\n",
       "    }\n",
       "\n",
       "    .dataframe thead th {\n",
       "        text-align: right;\n",
       "    }\n",
       "</style>\n",
       "<table border=\"1\" class=\"dataframe\">\n",
       "  <thead>\n",
       "    <tr style=\"text-align: right;\">\n",
       "      <th></th>\n",
       "      <th>Permit Type Definition</th>\n",
       "      <th>Description</th>\n",
       "    </tr>\n",
       "  </thead>\n",
       "  <tbody>\n",
       "    <tr>\n",
       "      <th>0</th>\n",
       "      <td>Electrical Permit</td>\n",
       "      <td>Bldg Repairs</td>\n",
       "    </tr>\n",
       "    <tr>\n",
       "      <th>1</th>\n",
       "      <td>Electrical Permit</td>\n",
       "      <td>Shell Bldg Bldg B</td>\n",
       "    </tr>\n",
       "    <tr>\n",
       "      <th>2</th>\n",
       "      <td>Electrical Permit</td>\n",
       "      <td>Berm Sign For Church</td>\n",
       "    </tr>\n",
       "    <tr>\n",
       "      <th>3</th>\n",
       "      <td>Building Permit</td>\n",
       "      <td>Duplex</td>\n",
       "    </tr>\n",
       "    <tr>\n",
       "      <th>4</th>\n",
       "      <td>Building Permit</td>\n",
       "      <td>Remodel To Create Rollin Donuts</td>\n",
       "    </tr>\n",
       "  </tbody>\n",
       "</table>\n",
       "</div>"
      ],
      "text/plain": [
       "  Permit Type Definition                      Description\n",
       "0      Electrical Permit                     Bldg Repairs\n",
       "1      Electrical Permit                Shell Bldg Bldg B\n",
       "2      Electrical Permit             Berm Sign For Church\n",
       "3        Building Permit                           Duplex\n",
       "4        Building Permit  Remodel To Create Rollin Donuts"
      ]
     },
     "execution_count": 58,
     "metadata": {},
     "output_type": "execute_result"
    }
   ],
   "source": [
    "keep_cols = [PERMIT_TYPE_DEF_COL, PERMIT_DESC_COL]\n",
    "df = df[keep_cols]\n",
    "df.head()"
   ]
  },
  {
   "cell_type": "markdown",
   "metadata": {},
   "source": [
    "## Replace empty values with NaN and display rows that have NaN values"
   ]
  },
  {
   "cell_type": "code",
   "execution_count": 59,
   "id": "1b0e1e24",
   "metadata": {},
   "outputs": [
    {
     "data": {
      "text/html": [
       "<div>\n",
       "<style scoped>\n",
       "    .dataframe tbody tr th:only-of-type {\n",
       "        vertical-align: middle;\n",
       "    }\n",
       "\n",
       "    .dataframe tbody tr th {\n",
       "        vertical-align: top;\n",
       "    }\n",
       "\n",
       "    .dataframe thead th {\n",
       "        text-align: right;\n",
       "    }\n",
       "</style>\n",
       "<table border=\"1\" class=\"dataframe\">\n",
       "  <thead>\n",
       "    <tr style=\"text-align: right;\">\n",
       "      <th></th>\n",
       "      <th>Permit Type Definition</th>\n",
       "      <th>Description</th>\n",
       "    </tr>\n",
       "  </thead>\n",
       "  <tbody>\n",
       "    <tr>\n",
       "      <th>0</th>\n",
       "      <td>Electrical Permit</td>\n",
       "      <td>Bldg Repairs</td>\n",
       "    </tr>\n",
       "    <tr>\n",
       "      <th>1</th>\n",
       "      <td>Electrical Permit</td>\n",
       "      <td>Shell Bldg Bldg B</td>\n",
       "    </tr>\n",
       "    <tr>\n",
       "      <th>2</th>\n",
       "      <td>Electrical Permit</td>\n",
       "      <td>Berm Sign For Church</td>\n",
       "    </tr>\n",
       "    <tr>\n",
       "      <th>3</th>\n",
       "      <td>Building Permit</td>\n",
       "      <td>Duplex</td>\n",
       "    </tr>\n",
       "    <tr>\n",
       "      <th>4</th>\n",
       "      <td>Building Permit</td>\n",
       "      <td>Remodel To Create Rollin Donuts</td>\n",
       "    </tr>\n",
       "    <tr>\n",
       "      <th>...</th>\n",
       "      <td>...</td>\n",
       "      <td>...</td>\n",
       "    </tr>\n",
       "    <tr>\n",
       "      <th>2090110</th>\n",
       "      <td>Building Permit</td>\n",
       "      <td>Dumpster compactor pad</td>\n",
       "    </tr>\n",
       "    <tr>\n",
       "      <th>2090111</th>\n",
       "      <td>Building Permit</td>\n",
       "      <td>New 466 Sf Swimming Pool And 414 Sf Concrete D...</td>\n",
       "    </tr>\n",
       "    <tr>\n",
       "      <th>2090112</th>\n",
       "      <td>Building Permit</td>\n",
       "      <td>New Detached WorkshopOffice  New Bath Kitchen ...</td>\n",
       "    </tr>\n",
       "    <tr>\n",
       "      <th>2090113</th>\n",
       "      <td>Building Permit</td>\n",
       "      <td>New 2 Story Sf Res Att Garage Covd Patio Covd ...</td>\n",
       "    </tr>\n",
       "    <tr>\n",
       "      <th>2090114</th>\n",
       "      <td>Building Permit</td>\n",
       "      <td>Additon To Sf Res 1 Story Front Porch</td>\n",
       "    </tr>\n",
       "  </tbody>\n",
       "</table>\n",
       "<p>2090019 rows × 2 columns</p>\n",
       "</div>"
      ],
      "text/plain": [
       "        Permit Type Definition  \\\n",
       "0            Electrical Permit   \n",
       "1            Electrical Permit   \n",
       "2            Electrical Permit   \n",
       "3              Building Permit   \n",
       "4              Building Permit   \n",
       "...                        ...   \n",
       "2090110        Building Permit   \n",
       "2090111        Building Permit   \n",
       "2090112        Building Permit   \n",
       "2090113        Building Permit   \n",
       "2090114        Building Permit   \n",
       "\n",
       "                                               Description  \n",
       "0                                             Bldg Repairs  \n",
       "1                                        Shell Bldg Bldg B  \n",
       "2                                     Berm Sign For Church  \n",
       "3                                                   Duplex  \n",
       "4                          Remodel To Create Rollin Donuts  \n",
       "...                                                    ...  \n",
       "2090110                             Dumpster compactor pad  \n",
       "2090111  New 466 Sf Swimming Pool And 414 Sf Concrete D...  \n",
       "2090112  New Detached WorkshopOffice  New Bath Kitchen ...  \n",
       "2090113  New 2 Story Sf Res Att Garage Covd Patio Covd ...  \n",
       "2090114              Additon To Sf Res 1 Story Front Porch  \n",
       "\n",
       "[2090019 rows x 2 columns]"
      ]
     },
     "execution_count": 59,
     "metadata": {},
     "output_type": "execute_result"
    }
   ],
   "source": [
    "df = df.replace(' ', np.nan)\n",
    "nan_values = df[df.isna().any(axis=1)]\n",
    "df.dropna()"
   ]
  },
  {
   "cell_type": "markdown",
   "metadata": {},
   "source": [
    "## Map 'Driveway/Sideway' permit type to Building permit type"
   ]
  },
  {
   "cell_type": "code",
   "execution_count": 60,
   "metadata": {},
   "outputs": [],
   "source": [
    "df.loc[(getattr(df, PERMIT_TYPE_DEF_COL) == 'Driveway / Sidewalks'), PERMIT_TYPE_DEF_COL] = 'Building Permit'"
   ]
  },
  {
   "cell_type": "markdown",
   "metadata": {},
   "source": [
    "# ML Playground"
   ]
  },
  {
   "cell_type": "markdown",
   "metadata": {},
   "source": [
    "## Display the count for each permit type"
   ]
  },
  {
   "cell_type": "code",
   "execution_count": 61,
   "metadata": {},
   "outputs": [
    {
     "data": {
      "text/plain": [
       "Electrical Permit    601126\n",
       "Building Permit      569781\n",
       "Plumbing Permit      468221\n",
       "Mechanical Permit    450987\n",
       "Name: Permit Type Definition, dtype: int64"
      ]
     },
     "execution_count": 61,
     "metadata": {},
     "output_type": "execute_result"
    }
   ],
   "source": [
    "df[PERMIT_TYPE_DEF_COL].value_counts()"
   ]
  },
  {
   "cell_type": "code",
   "execution_count": 62,
   "metadata": {},
   "outputs": [
    {
     "data": {
      "text/html": [
       "<div>\n",
       "<style scoped>\n",
       "    .dataframe tbody tr th:only-of-type {\n",
       "        vertical-align: middle;\n",
       "    }\n",
       "\n",
       "    .dataframe tbody tr th {\n",
       "        vertical-align: top;\n",
       "    }\n",
       "\n",
       "    .dataframe thead th {\n",
       "        text-align: right;\n",
       "    }\n",
       "</style>\n",
       "<table border=\"1\" class=\"dataframe\">\n",
       "  <thead>\n",
       "    <tr style=\"text-align: right;\">\n",
       "      <th></th>\n",
       "      <th>Permit Type Definition</th>\n",
       "      <th>Description</th>\n",
       "    </tr>\n",
       "  </thead>\n",
       "  <tbody>\n",
       "    <tr>\n",
       "      <th>0</th>\n",
       "      <td>Electrical Permit</td>\n",
       "      <td>Bldg Repairs</td>\n",
       "    </tr>\n",
       "    <tr>\n",
       "      <th>1</th>\n",
       "      <td>Electrical Permit</td>\n",
       "      <td>Shell Bldg Bldg B</td>\n",
       "    </tr>\n",
       "    <tr>\n",
       "      <th>2</th>\n",
       "      <td>Electrical Permit</td>\n",
       "      <td>Berm Sign For Church</td>\n",
       "    </tr>\n",
       "    <tr>\n",
       "      <th>3</th>\n",
       "      <td>Building Permit</td>\n",
       "      <td>Duplex</td>\n",
       "    </tr>\n",
       "    <tr>\n",
       "      <th>4</th>\n",
       "      <td>Building Permit</td>\n",
       "      <td>Remodel To Create Rollin Donuts</td>\n",
       "    </tr>\n",
       "  </tbody>\n",
       "</table>\n",
       "</div>"
      ],
      "text/plain": [
       "  Permit Type Definition                      Description\n",
       "0      Electrical Permit                     Bldg Repairs\n",
       "1      Electrical Permit                Shell Bldg Bldg B\n",
       "2      Electrical Permit             Berm Sign For Church\n",
       "3        Building Permit                           Duplex\n",
       "4        Building Permit  Remodel To Create Rollin Donuts"
      ]
     },
     "execution_count": 62,
     "metadata": {},
     "output_type": "execute_result"
    }
   ],
   "source": [
    "df.head()"
   ]
  },
  {
   "cell_type": "markdown",
   "metadata": {},
   "source": [
    "## Grab X data"
   ]
  },
  {
   "cell_type": "code",
   "execution_count": 63,
   "metadata": {},
   "outputs": [
    {
     "data": {
      "text/html": [
       "<div>\n",
       "<style scoped>\n",
       "    .dataframe tbody tr th:only-of-type {\n",
       "        vertical-align: middle;\n",
       "    }\n",
       "\n",
       "    .dataframe tbody tr th {\n",
       "        vertical-align: top;\n",
       "    }\n",
       "\n",
       "    .dataframe thead th {\n",
       "        text-align: right;\n",
       "    }\n",
       "</style>\n",
       "<table border=\"1\" class=\"dataframe\">\n",
       "  <thead>\n",
       "    <tr style=\"text-align: right;\">\n",
       "      <th></th>\n",
       "      <th>Description</th>\n",
       "    </tr>\n",
       "  </thead>\n",
       "  <tbody>\n",
       "    <tr>\n",
       "      <th>0</th>\n",
       "      <td>Bldg Repairs</td>\n",
       "    </tr>\n",
       "    <tr>\n",
       "      <th>1</th>\n",
       "      <td>Shell Bldg Bldg B</td>\n",
       "    </tr>\n",
       "    <tr>\n",
       "      <th>2</th>\n",
       "      <td>Berm Sign For Church</td>\n",
       "    </tr>\n",
       "    <tr>\n",
       "      <th>3</th>\n",
       "      <td>Duplex</td>\n",
       "    </tr>\n",
       "    <tr>\n",
       "      <th>4</th>\n",
       "      <td>Remodel To Create Rollin Donuts</td>\n",
       "    </tr>\n",
       "  </tbody>\n",
       "</table>\n",
       "</div>"
      ],
      "text/plain": [
       "                       Description\n",
       "0                     Bldg Repairs\n",
       "1                Shell Bldg Bldg B\n",
       "2             Berm Sign For Church\n",
       "3                           Duplex\n",
       "4  Remodel To Create Rollin Donuts"
      ]
     },
     "execution_count": 63,
     "metadata": {},
     "output_type": "execute_result"
    }
   ],
   "source": [
    "X = df.drop(columns=[PERMIT_TYPE_DEF_COL])\n",
    "X.head()"
   ]
  },
  {
   "cell_type": "markdown",
   "metadata": {},
   "source": [
    "## Grab y data (Labels)"
   ]
  },
  {
   "cell_type": "code",
   "execution_count": 64,
   "metadata": {},
   "outputs": [
    {
     "data": {
      "text/plain": [
       "0    Electrical Permit\n",
       "1    Electrical Permit\n",
       "2    Electrical Permit\n",
       "3      Building Permit\n",
       "4      Building Permit\n",
       "Name: Permit Type Definition, dtype: object"
      ]
     },
     "execution_count": 64,
     "metadata": {},
     "output_type": "execute_result"
    }
   ],
   "source": [
    "y = getattr(df, PERMIT_TYPE_DEF_COL)\n",
    "y.head()"
   ]
  },
  {
   "cell_type": "markdown",
   "metadata": {},
   "source": [
    "## Export X and y data to CSV"
   ]
  },
  {
   "cell_type": "code",
   "execution_count": 65,
   "metadata": {},
   "outputs": [],
   "source": [
    "df.to_csv(path_or_buf=f'../datasets/clean_{CITY}DataSet.csv', index=False)"
   ]
  },
  {
   "cell_type": "markdown",
   "metadata": {},
   "source": [
    "## Uncommnet the following if you would like to separate the X and y datasets into different files"
   ]
  },
  {
   "cell_type": "code",
   "execution_count": 66,
   "metadata": {},
   "outputs": [],
   "source": [
    "# X.to_csv(path_or_buf=f'../datasets/X_{CITY}DataSet.csv', index=False)"
   ]
  },
  {
   "cell_type": "code",
   "execution_count": 67,
   "metadata": {},
   "outputs": [],
   "source": [
    "# y.to_csv(path_or_buf=f'../datasets/y_{CITY}DataSet.csv', index=False)"
   ]
  }
 ],
 "metadata": {
  "interpreter": {
   "hash": "31f2aee4e71d21fbe5cf8b01ff0e069b9275f58929596ceb00d14d90e3e16cd6"
  },
  "kernelspec": {
   "display_name": "Python 3.8.2 64-bit",
   "name": "python3"
  },
  "language_info": {
   "codemirror_mode": {
    "name": "ipython",
    "version": 3
   },
   "file_extension": ".py",
   "mimetype": "text/x-python",
   "name": "python",
   "nbconvert_exporter": "python",
   "pygments_lexer": "ipython3",
   "version": "3.8.2"
  }
 },
 "nbformat": 4,
 "nbformat_minor": 5
}
