{
 "cells": [
  {
   "cell_type": "markdown",
   "metadata": {},
   "source": [
    "# This Jupyter script will aggregate the data for the Austin, San Francisco and Boston permit datasets"
   ]
  },
  {
   "cell_type": "markdown",
   "metadata": {},
   "source": [
    "The following script assumes that all 3 of the following scripts have run successfully and have created the files specified below to be used in this script stored within the `datasets` directory.\n",
    "- `clean_AustinDataSet.csv`\n",
    "- `clean_SanFranciscoDataSet.csv`\n",
    "- `clean_BostonDataSet.csv`"
   ]
  },
  {
   "cell_type": "code",
   "execution_count": 10,
   "metadata": {},
   "outputs": [],
   "source": [
    "import pandas as pd\n",
    "import numpy as np\n",
    "import matplotlib.pyplot as plt\n",
    "aus_df = pd.read_csv('../datasets/clean_AustinDataSet.csv')\n",
    "sf_df = pd.read_csv('../datasets/clean_SanFranciscoDataSet.csv')\n",
    "bos_df = pd.read_csv('../datasets/clean_BostonDataSet.csv')"
   ]
  },
  {
   "cell_type": "markdown",
   "metadata": {},
   "source": [
    "## Define some global variables"
   ]
  },
  {
   "cell_type": "code",
   "execution_count": 11,
   "metadata": {},
   "outputs": [],
   "source": [
    "# DATASET COLUMNS\n",
    "BASE_DIR = 'all_cities_dataset'\n",
    "PERMIT_TYPE_DEF_COL = 'Permit Type Definition'\n",
    "PERMIT_DESC_COL = 'Description'"
   ]
  },
  {
   "cell_type": "code",
   "execution_count": 12,
   "metadata": {},
   "outputs": [],
   "source": [
    "if aus_df.shape[1] != 2:\n",
    "    raise Exception(f\"Austin data doesn't have right columns: {aus_df.columns}\")\n",
    "if sf_df.shape[1] != 2:\n",
    "    raise Exception(f\"SF data doesn't have right columns: {sf_df.columns}\")\n",
    "if bos_df.shape[1] != 2:\n",
    "    raise Exception(f\"Boston data doesn't have right columns: {bos_df.columns}\")"
   ]
  },
  {
   "cell_type": "markdown",
   "metadata": {},
   "source": [
    "# Append the datasets together"
   ]
  },
  {
   "cell_type": "code",
   "execution_count": 13,
   "metadata": {},
   "outputs": [
    {
     "name": "stdout",
     "output_type": "stream",
     "text": [
      "Size before append of the Austin dataest: (2090115, 2)\n",
      "Size before append of the SF dataest: (1705703, 2)\n",
      "Size before append of the Boston dataest: (523418, 2)\n",
      "Size of final dataframe with all datasets: (4319236, 2)\n"
     ]
    }
   ],
   "source": [
    "print(f\"Size before append of the Austin dataest: {aus_df.shape}\")\n",
    "print(f\"Size before append of the SF dataest: {sf_df.shape}\")\n",
    "print(f\"Size before append of the Boston dataest: {bos_df.shape}\")\n",
    "df = aus_df.append(sf_df)\n",
    "df = df.append(bos_df)\n",
    "print(f\"Size of final dataframe with all datasets: {df.shape}\")"
   ]
  },
  {
   "cell_type": "markdown",
   "metadata": {},
   "source": [
    "## Display the count for each permit type"
   ]
  },
  {
   "cell_type": "code",
   "execution_count": 14,
   "metadata": {},
   "outputs": [
    {
     "data": {
      "text/plain": [
       "Building Permit      1958111\n",
       "Electrical Permit    1068872\n",
       "Plumbing Permit       789348\n",
       "Mechanical Permit     502905\n",
       "Name: Permit Type Definition, dtype: int64"
      ]
     },
     "execution_count": 14,
     "metadata": {},
     "output_type": "execute_result"
    }
   ],
   "source": [
    "df[PERMIT_TYPE_DEF_COL].value_counts()"
   ]
  },
  {
   "cell_type": "markdown",
   "metadata": {},
   "source": [
    "# Create directory structure for training data"
   ]
  },
  {
   "cell_type": "code",
   "execution_count": 15,
   "metadata": {},
   "outputs": [],
   "source": [
    "os.makedirs(BASE_DIR, exist_ok=True)"
   ]
  },
  {
   "cell_type": "code",
   "execution_count": 16,
   "metadata": {},
   "outputs": [],
   "source": [
    "elc_lbl = \"Electrical Permit\"\n",
    "plb_lbl = \"Plumbing Permit\"\n",
    "blg_lbl = \"Building Permit\"\n",
    "mch_lbl = \"Mechanical Permit\"\n",
    "labels = [elc_lbl, plb_lbl, blg_lbl, mch_lbl]\n",
    "directories = [\"electrical_permit\", \"plumbing_permit\", \"building_permit\", \"mechanical_permit\"]\n",
    "\n",
    "for directory in directories:\n",
    "    os.makedirs(\"all_cities_dataset/\" + directory, exist_ok=True)   "
   ]
  },
  {
   "cell_type": "code",
   "execution_count": 17,
   "metadata": {},
   "outputs": [],
   "source": [
    "# count1, count2, count3, count4 = 0, 0, 0, 0\n",
    "# for i in range(len(df)):\n",
    "#     if (getattr(df.iloc[i], PERMIT_TYPE_DEF_COL) == elc_lbl):\n",
    "#         file = open(f\"{BASE_DIR}/electrical_permit/\" + str(count1) + \".txt\", 'w', encoding=\"utf-8\")\n",
    "#         file.write(str(getattr(df.iloc[i], PERMIT_DESC_COL)))\n",
    "#         file.close()\n",
    "#         count1 += 1\n",
    "#     if (getattr(df.iloc[i], PERMIT_TYPE_DEF_COL) == plb_lbl):\n",
    "#         file = open(f\"{BASE_DIR}/plumbing_permit/\" + str(count2) + \".txt\", 'w', encoding=\"utf-8\")\n",
    "#         file.write(str(getattr(df.iloc[i], PERMIT_DESC_COL)))\n",
    "#         file.close()\n",
    "#         count2 += 1\n",
    "#     if (getattr(df.iloc[i], PERMIT_TYPE_DEF_COL) == blg_lbl):\n",
    "#         file = open(f\"{BASE_DIR}/building_permit/\" + str(count3) + \".txt\", 'w', encoding=\"utf-8\")\n",
    "#         file.write(str(getattr(df.iloc[i], PERMIT_DESC_COL)))\n",
    "#         file.close()\n",
    "#         count3 += 1\n",
    "#     if (getattr(df.iloc[i], PERMIT_TYPE_DEF_COL) == mch_lbl):\n",
    "#         file = open(f\"{BASE_DIR}/mechanical_permit/\" + str(count4) + \".txt\", 'w', encoding=\"utf-8\")\n",
    "#         file.write(str(getattr(df.iloc[i], PERMIT_DESC_COL)))\n",
    "#         file.close()\n",
    "#         count4 += 1\n",
    "# print(count1, count2, count3, count4)"
   ]
  },
  {
   "cell_type": "markdown",
   "metadata": {},
   "source": [
    "# Export to file"
   ]
  },
  {
   "cell_type": "markdown",
   "metadata": {},
   "source": [
    "## Grab X data"
   ]
  },
  {
   "cell_type": "code",
   "execution_count": null,
   "metadata": {},
   "outputs": [
    {
     "data": {
      "text/html": [
       "<div>\n",
       "<style scoped>\n",
       "    .dataframe tbody tr th:only-of-type {\n",
       "        vertical-align: middle;\n",
       "    }\n",
       "\n",
       "    .dataframe tbody tr th {\n",
       "        vertical-align: top;\n",
       "    }\n",
       "\n",
       "    .dataframe thead th {\n",
       "        text-align: right;\n",
       "    }\n",
       "</style>\n",
       "<table border=\"1\" class=\"dataframe\">\n",
       "  <thead>\n",
       "    <tr style=\"text-align: right;\">\n",
       "      <th></th>\n",
       "      <th>Description</th>\n",
       "    </tr>\n",
       "  </thead>\n",
       "  <tbody>\n",
       "    <tr>\n",
       "      <th>0</th>\n",
       "      <td>addiition to a new unit on basement fl per ord...</td>\n",
       "    </tr>\n",
       "    <tr>\n",
       "      <th>1</th>\n",
       "      <td>(rear of (e) lot with an (e) r-3/28 structure ...</td>\n",
       "    </tr>\n",
       "    <tr>\n",
       "      <th>2</th>\n",
       "      <td>(rear of (e) lot with an (e) r-3/28 structure ...</td>\n",
       "    </tr>\n",
       "    <tr>\n",
       "      <th>3</th>\n",
       "      <td>to erect 4 stories, no basement, type v-b, 2 u...</td>\n",
       "    </tr>\n",
       "    <tr>\n",
       "      <th>4</th>\n",
       "      <td>legalize (e) dwelling unit @ 1st fl per ordina...</td>\n",
       "    </tr>\n",
       "  </tbody>\n",
       "</table>\n",
       "</div>"
      ],
      "text/plain": [
       "                                         Description\n",
       "0  addiition to a new unit on basement fl per ord...\n",
       "1  (rear of (e) lot with an (e) r-3/28 structure ...\n",
       "2  (rear of (e) lot with an (e) r-3/28 structure ...\n",
       "3  to erect 4 stories, no basement, type v-b, 2 u...\n",
       "4  legalize (e) dwelling unit @ 1st fl per ordina..."
      ]
     },
     "metadata": {},
     "output_type": "display_data"
    }
   ],
   "source": [
    "X = df.drop(columns=[PERMIT_TYPE_DEF_COL])\n",
    "X.head()"
   ]
  },
  {
   "cell_type": "markdown",
   "metadata": {},
   "source": [
    "## Grab y data (Labels)"
   ]
  },
  {
   "cell_type": "code",
   "execution_count": null,
   "metadata": {},
   "outputs": [
    {
     "data": {
      "text/plain": [
       "0    Building Permit\n",
       "1    Building Permit\n",
       "2    Building Permit\n",
       "3    Building Permit\n",
       "4    Building Permit\n",
       "Name: Permit Type Definition, dtype: object"
      ]
     },
     "metadata": {},
     "output_type": "display_data"
    }
   ],
   "source": [
    "y = getattr(df, PERMIT_TYPE_DEF_COL)\n",
    "y.head()"
   ]
  },
  {
   "cell_type": "markdown",
   "metadata": {},
   "source": [
    "## Export X and y data to CSV"
   ]
  },
  {
   "cell_type": "code",
   "execution_count": 19,
   "metadata": {},
   "outputs": [],
   "source": [
    "df.to_csv(path_or_buf=f'../datasets/clean_AllCitiesDataSet.csv', index=False)"
   ]
  }
 ],
 "metadata": {
  "interpreter": {
   "hash": "31f2aee4e71d21fbe5cf8b01ff0e069b9275f58929596ceb00d14d90e3e16cd6"
  },
  "kernelspec": {
   "display_name": "Python 3.8.2 64-bit",
   "name": "python3"
  },
  "language_info": {
   "codemirror_mode": {
    "name": "ipython",
    "version": 3
   },
   "file_extension": ".py",
   "mimetype": "text/x-python",
   "name": "python",
   "nbconvert_exporter": "python",
   "pygments_lexer": "ipython3",
   "version": "3.8.2"
  },
  "orig_nbformat": 4
 },
 "nbformat": 4,
 "nbformat_minor": 2
}
