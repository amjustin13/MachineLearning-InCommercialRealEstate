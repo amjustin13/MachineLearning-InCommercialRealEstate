{
 "cells": [
  {
   "cell_type": "markdown",
   "id": "3ebc6195",
   "metadata": {},
   "source": [
    "# Permit Type Classification Final Model Training"
   ]
  },
  {
   "cell_type": "markdown",
   "id": "2189e6f7",
   "metadata": {},
   "source": [
    "## Description\n"
   ]
  },
  {
   "cell_type": "markdown",
   "id": "a7743210",
   "metadata": {},
   "source": [
    " The purpose of this model is classify construction permit types into four categories given a string input of the permit description or any notes regarding the permit. The four categories are electrical, building, mechanical, and plumbing. The core of the model is the BERT deep learning model developed by Google. "
   ]
  },
  {
   "cell_type": "markdown",
   "id": "1445657c",
   "metadata": {},
   "source": [
    "## Data "
   ]
  },
  {
   "cell_type": "markdown",
   "id": "a4031082",
   "metadata": {},
   "source": [
    "The data used for training were collected from three cities in the United States sourcing from public city records. The cities are Boston, Austin, and San Francisco. The raw permit data have been normalized to fit within one of the four labels. For example, the Boston dataset originally contained 14 permit classes. Those classes are mapped to the four categories eletrical, building, mechanical, and plumbing. The original datasets are additionally processed to remove incomplete data points. Only the permit description are used to train the model. \n"
   ]
  },
  {
   "cell_type": "markdown",
   "id": "76909829",
   "metadata": {},
   "source": [
    "## Training"
   ]
  },
  {
   "cell_type": "code",
   "execution_count": 1,
   "id": "94d4564c",
   "metadata": {},
   "outputs": [
    {
     "name": "stdout",
     "output_type": "stream",
     "text": [
      "Tensorflow version:  2.6.0\n",
      "GPU available:  [PhysicalDevice(name='/physical_device:GPU:0', device_type='GPU')]\n"
     ]
    }
   ],
   "source": [
    "import os\n",
    "import shutil\n",
    "\n",
    "import tensorflow as tf\n",
    "import tensorflow_hub as hub\n",
    "import tensorflow_text as text\n",
    "\n",
    "from official.nlp import optimization\n",
    "\n",
    "import matplotlib.pyplot as plt\n",
    "print('Tensorflow version: ', tf.__version__)\n",
    "print('GPU available: ', tf.config.list_physical_devices('GPU'))"
   ]
  },
  {
   "cell_type": "code",
   "execution_count": 2,
   "id": "63deaae0",
   "metadata": {},
   "outputs": [],
   "source": [
    "### data ###\n",
    "data_dir = \"training_v5\"\n",
    "train_dir = os.path.join(data_dir, 'train')\n",
    "test_dir = os.path.join(data_dir, 'test')"
   ]
  },
  {
   "cell_type": "code",
   "execution_count": 3,
   "id": "972c5375",
   "metadata": {},
   "outputs": [
    {
     "name": "stdout",
     "output_type": "stream",
     "text": [
      "Found 4103056 files belonging to 2 classes.\n",
      "Using 3282445 files for training.\n",
      "Found 4103056 files belonging to 2 classes.\n",
      "Using 820611 files for validation.\n",
      "Found 216180 files belonging to 2 classes.\n"
     ]
    }
   ],
   "source": [
    "### data reorganization ###\n",
    "AUTOTUNE = tf.data.AUTOTUNE\n",
    "batch_size = 64\n",
    "seed = 42\n",
    "\n",
    "raw_train_ds = tf.keras.preprocessing.text_dataset_from_directory(\n",
    "    train_dir,\n",
    "    batch_size=batch_size,\n",
    "    validation_split=0.2,\n",
    "    subset='training',\n",
    "    seed=seed)\n",
    "\n",
    "class_names = raw_train_ds.class_names\n",
    "train_ds = raw_train_ds.cache().prefetch(buffer_size=AUTOTUNE)\n",
    "\n",
    "val_ds = tf.keras.preprocessing.text_dataset_from_directory(\n",
    "    train_dir,\n",
    "    batch_size=batch_size,\n",
    "    validation_split=0.2,\n",
    "    subset='validation',\n",
    "    seed=seed)\n",
    "\n",
    "val_ds = val_ds.cache().prefetch(buffer_size=AUTOTUNE)\n",
    "\n",
    "test_ds = tf.keras.preprocessing.text_dataset_from_directory(\n",
    "    test_dir,\n",
    "    batch_size=batch_size)\n",
    "\n",
    "test_ds = test_ds.cache().prefetch(buffer_size=AUTOTUNE)"
   ]
  },
  {
   "cell_type": "code",
   "execution_count": 4,
   "id": "79180f61",
   "metadata": {},
   "outputs": [
    {
     "name": "stdout",
     "output_type": "stream",
     "text": [
      "Description: b'reroofing'\n",
      "Label : 1 (pre_construction)\n",
      "Description: b'renew pa# 2003/05/15/4759 to obtain final inspection. all work is completed.'\n",
      "Label : 1 (pre_construction)\n",
      "Description: b'New Res'\n",
      "Label : 0 (post_construction)\n"
     ]
    }
   ],
   "source": [
    "### viewing sample data ###\n",
    "for text_batch, label_batch in train_ds.take(1):\n",
    "  for i in range(3):\n",
    "    print(f'Description: {text_batch.numpy()[i]}')\n",
    "    label = label_batch.numpy()[i]\n",
    "    print(f'Label : {label} ({class_names[label]})')"
   ]
  },
  {
   "cell_type": "code",
   "execution_count": 5,
   "id": "dab442bd",
   "metadata": {},
   "outputs": [],
   "source": [
    "### BERT model ###\n",
    "bert_model_name = 'small_bert/bert_en_uncased_L-4_H-512_A-8'\n",
    "model_encoder = 'https://tfhub.dev/tensorflow/small_bert/bert_en_uncased_L-4_H-512_A-8/1'\n",
    "model_preprocess = 'https://tfhub.dev/tensorflow/bert_en_uncased_preprocess/3'"
   ]
  },
  {
   "cell_type": "code",
   "execution_count": 6,
   "id": "5f56bda9",
   "metadata": {},
   "outputs": [],
   "source": [
    "bert_preprocess_model = hub.KerasLayer(model_preprocess)"
   ]
  },
  {
   "cell_type": "code",
   "execution_count": 7,
   "id": "8684b1a0",
   "metadata": {},
   "outputs": [],
   "source": [
    "bert_model = hub.KerasLayer(model_encoder)"
   ]
  },
  {
   "cell_type": "code",
   "execution_count": 8,
   "id": "4189c6a8",
   "metadata": {},
   "outputs": [],
   "source": [
    "### Building classifier ###\n",
    "def build_classifier_model():\n",
    "  text_input = tf.keras.layers.Input(shape=(), dtype=tf.string, name='text')\n",
    "  preprocessing_layer = hub.KerasLayer(model_preprocess, name='preprocessing')\n",
    "  encoder_inputs = preprocessing_layer(text_input)\n",
    "  encoder = hub.KerasLayer(model_encoder, trainable=True, name='BERT_encoder')\n",
    "  outputs = encoder(encoder_inputs)\n",
    "  net = outputs['pooled_output']\n",
    "  net = tf.keras.layers.Dropout(0.1)(net)\n",
    "  net = tf.keras.layers.Dense(1, activation=tf.nn.sigmoid, name='classifier')(net)\n",
    "  return tf.keras.Model(text_input, net)\n",
    "\n",
    "classifier_model = build_classifier_model()"
   ]
  },
  {
   "cell_type": "code",
   "execution_count": 9,
   "id": "d8fa05e2",
   "metadata": {},
   "outputs": [
    {
     "name": "stdout",
     "output_type": "stream",
     "text": [
      "Training model with https://tfhub.dev/tensorflow/small_bert/bert_en_uncased_L-4_H-512_A-8/1\n",
      "Epoch 1/2\n",
      "51289/51289 [==============================] - 28968s 565ms/step - loss: 0.5760 - binary_accuracy: 0.8656 - val_loss: 0.5691 - val_binary_accuracy: 0.8806\n",
      "\n",
      "Epoch 00001: saving model to checkpoints_bin\\cp.ckpt\n",
      "Epoch 2/2\n",
      "51289/51289 [==============================] - 27794s 542ms/step - loss: 0.5681 - binary_accuracy: 0.8822 - val_loss: 0.5673 - val_binary_accuracy: 0.8841\n",
      "\n",
      "Epoch 00002: saving model to checkpoints_bin\\cp.ckpt\n"
     ]
    }
   ],
   "source": [
    "### Train the model ###\n",
    "\n",
    "checkpoint_path = \"checkpoints_bin/cp.ckpt\"\n",
    "checkpoint_dir = os.path.dirname(checkpoint_path)\n",
    "cp_callback = tf.keras.callbacks.ModelCheckpoint(filepath=checkpoint_path,\n",
    "                                                 save_weights_only=True,\n",
    "                                                 verbose=1)\n",
    "\n",
    "loss = tf.keras.losses.BinaryCrossentropy(from_logits=True)\n",
    "metrics = tf.metrics.BinaryAccuracy()\n",
    "epochs = 2\n",
    "steps_per_epoch = tf.data.experimental.cardinality(train_ds).numpy()\n",
    "num_train_steps = steps_per_epoch * epochs\n",
    "num_warmup_steps = int(0.1*num_train_steps)\n",
    "\n",
    "init_lr = 3e-5\n",
    "optimizer = optimization.create_optimizer(init_lr=init_lr,\n",
    "                                          num_train_steps=num_train_steps,\n",
    "                                          num_warmup_steps=num_warmup_steps,\n",
    "                                          optimizer_type='adamw')\n",
    "classifier_model.compile(optimizer=optimizer,\n",
    "                         loss=loss,\n",
    "                         metrics=metrics)\n",
    "\n",
    "print(f'Training model with {model_encoder}')\n",
    "history = classifier_model.fit(x=train_ds,\n",
    "                               validation_data=val_ds,\n",
    "                               epochs=epochs, callbacks=[cp_callback])"
   ]
  },
  {
   "cell_type": "code",
   "execution_count": 11,
   "id": "bf9e1437",
   "metadata": {},
   "outputs": [
    {
     "name": "stdout",
     "output_type": "stream",
     "text": [
      "3378/3378 [==============================] - 1137s 337ms/step - loss: 0.5675 - binary_accuracy: 0.8845\n",
      "Loss: 0.5675368309020996\n",
      "Accuracy: 0.8844666481018066\n",
      "dict_keys(['loss', 'binary_accuracy', 'val_loss', 'val_binary_accuracy'])\n"
     ]
    },
    {
     "data": {
      "text/plain": [
       "<matplotlib.legend.Legend at 0x1f624193e48>"
      ]
     },
     "execution_count": 11,
     "metadata": {},
     "output_type": "execute_result"
    },
    {
     "data": {
      "image/png": "[encoded data removed]",
      "text/plain": [
       "<Figure size 720x432 with 2 Axes>"
      ]
     },
     "metadata": {
      "needs_background": "light"
     },
     "output_type": "display_data"
    }
   ],
   "source": [
    "### Model evaluation ###\n",
    "\n",
    "loss, accuracy = classifier_model.evaluate(test_ds)\n",
    "\n",
    "print(f'Loss: {loss}')\n",
    "print(f'Accuracy: {accuracy}')\n",
    "\n",
    "history_dict = history.history\n",
    "print(history_dict.keys())\n",
    "\n",
    "acc = history_dict['binary_accuracy']\n",
    "val_acc = history_dict['val_binary_accuracy']\n",
    "loss = history_dict['loss']\n",
    "val_loss = history_dict['val_loss']\n",
    "\n",
    "epochs = range(1, len(acc) + 1)\n",
    "fig = plt.figure(figsize=(10, 6))\n",
    "fig.tight_layout()\n",
    "\n",
    "plt.subplot(2, 1, 1)\n",
    "# r is for \"solid red line\"\n",
    "plt.plot(epochs, loss, 'r', label='Training loss')\n",
    "# b is for \"solid blue line\"\n",
    "plt.plot(epochs, val_loss, 'b', label='Validation loss')\n",
    "plt.title('Training and validation loss')\n",
    "# plt.xlabel('Epochs')\n",
    "plt.ylabel('Loss')\n",
    "plt.legend()\n",
    "\n",
    "plt.subplot(2, 1, 2)\n",
    "plt.plot(epochs, acc, 'r', label='Training acc')\n",
    "plt.plot(epochs, val_acc, 'b', label='Validation acc')\n",
    "plt.title('Training and validation accuracy')\n",
    "plt.xlabel('Epochs')\n",
    "plt.ylabel('Accuracy')\n",
    "plt.legend(loc='lower right')"
   ]
  },
  {
   "cell_type": "code",
   "execution_count": 12,
   "id": "2840fc5e",
   "metadata": {},
   "outputs": [
    {
     "name": "stderr",
     "output_type": "stream",
     "text": [
      "WARNING:absl:Found untraced functions such as restored_function_body, restored_function_body, restored_function_body, restored_function_body, restored_function_body while saving (showing 5 of 310). These functions will not be directly callable after loading.\n"
     ]
    },
    {
     "name": "stdout",
     "output_type": "stream",
     "text": [
      "INFO:tensorflow:Assets written to: ./final_ds_modelv2_bin\\assets\n"
     ]
    },
    {
     "name": "stderr",
     "output_type": "stream",
     "text": [
      "INFO:tensorflow:Assets written to: ./final_ds_modelv2_bin\\assets\n"
     ]
    }
   ],
   "source": [
    "### Save the model ###\n",
    "\n",
    "dataset_name = 'final_ds'\n",
    "saved_model_path = './{}_modelv2_bin'.format(dataset_name.replace('/', '_'))\n",
    "\n",
    "classifier_model.save(saved_model_path)"
   ]
  },
  {
   "cell_type": "code",
   "execution_count": 13,
   "id": "0daa38e3",
   "metadata": {},
   "outputs": [],
   "source": [
    "### Reload model ###\n",
    "\n",
    "reloaded_model = tf.saved_model.load(saved_model_path)"
   ]
  },
  {
   "cell_type": "code",
   "execution_count": 14,
   "id": "00979941",
   "metadata": {},
   "outputs": [
    {
     "name": "stdout",
     "output_type": "stream",
     "text": [
      "['post_construction', 'pre_construction']\n",
      "tf.Tensor(\n",
      "[[4.8769505e-07]\n",
      " [4.3910998e-07]\n",
      " [9.9999964e-01]\n",
      " [6.4729471e-07]\n",
      " [1.1835682e-06]], shape=(5, 1), dtype=float32)\n",
      "Results:\n",
      "\t post_construction\n",
      "\t post_construction\n",
      "\t post_construction\n",
      "\t post_construction\n",
      "\t post_construction\n"
     ]
    }
   ],
   "source": [
    "### Test results ###\n",
    "\n",
    "import numpy as np\n",
    "\n",
    "def print_my_examples(inputs, results):\n",
    "  result_for_printing = \\\n",
    "    [f'input: {inputs[i]:<30} : score: {results[i][0]:.6f}'\n",
    "                         for i in range(len(inputs))]\n",
    "  print(*result_for_printing, sep='\\n')\n",
    "  print()\n",
    "\n",
    "\n",
    "examples = [\n",
    "    'work for Blue Bottle Cafe RTU connection',\n",
    "    'Install toilet  sink  lavs  shower  laundry and water heater.',\n",
    "    'Residential Parking,use of premises for;1 car parking with new driveway  eplan',\n",
    "    'Low Voltage,To install an intercom door bell system and security camera in the buildingTo install TV cable  in all three floor',\n",
    "    'Relocate existing smoke detectors and horn/strobes. Install additional smoke detectors and horn/strobes for new 5th. floor office lay-out.'\n",
    "]\n",
    "\n",
    "# reloaded_results = reloaded_model(tf.constant(examples))\n",
    "original_results = classifier_model(tf.constant(examples))\n",
    "print(class_names)\n",
    "print(original_results)\n",
    "print('Results:')\n",
    "max_ind = np.argmax(original_results.numpy(), axis=1)\n",
    "for idx in max_ind:\n",
    "    print('\\t',class_names[idx])\n"
   ]
  },
  {
   "cell_type": "code",
   "execution_count": 16,
   "id": "0d5d603a",
   "metadata": {},
   "outputs": [
    {
     "name": "stdout",
     "output_type": "stream",
     "text": [
      "Epoch 1/2\n",
      "51289/51289 [==============================] - 27678s 540ms/step - loss: 0.5669 - binary_accuracy: 0.8844 - val_loss: 0.5673 - val_binary_accuracy: 0.8841\n",
      "\n",
      "Epoch 00001: saving model to checkpoints_bin\\cp.ckpt\n",
      "Epoch 2/2\n",
      "51289/51289 [==============================] - 26919s 525ms/step - loss: 0.5669 - binary_accuracy: 0.8846 - val_loss: 0.5673 - val_binary_accuracy: 0.8841\n",
      "\n",
      "Epoch 00002: saving model to checkpoints_bin\\cp.ckpt\n"
     ]
    }
   ],
   "source": [
    "history = classifier_model.fit(x=train_ds,\n",
    "                               validation_data=val_ds,\n",
    "                               epochs=2, callbacks=[cp_callback])"
   ]
  },
  {
   "cell_type": "code",
   "execution_count": 17,
   "id": "5c5b16e2",
   "metadata": {},
   "outputs": [
    {
     "name": "stdout",
     "output_type": "stream",
     "text": [
      "3378/3378 [==============================] - 1126s 333ms/step - loss: 0.5675 - binary_accuracy: 0.8845\n"
     ]
    },
    {
     "name": "stderr",
     "output_type": "stream",
     "text": [
      "WARNING:absl:Found untraced functions such as restored_function_body, restored_function_body, restored_function_body, restored_function_body, restored_function_body while saving (showing 5 of 310). These functions will not be directly callable after loading.\n"
     ]
    },
    {
     "name": "stdout",
     "output_type": "stream",
     "text": [
      "INFO:tensorflow:Assets written to: ./final_ds_modelv2_bin\\assets\n"
     ]
    },
    {
     "name": "stderr",
     "output_type": "stream",
     "text": [
      "INFO:tensorflow:Assets written to: ./final_ds_modelv2_bin\\assets\n"
     ]
    }
   ],
   "source": [
    "loss, accuracy = classifier_model.evaluate(test_ds)\n",
    "classifier_model.save(saved_model_path)"
   ]
  },
  {
   "cell_type": "code",
   "execution_count": null,
   "id": "fa328440",
   "metadata": {},
   "outputs": [],
   "source": []
  }
 ],
 "metadata": {
  "kernelspec": {
   "display_name": "Python 3 (ipykernel)",
   "language": "python",
   "name": "python3"
  },
  "language_info": {
   "codemirror_mode": {
    "name": "ipython",
    "version": 3
   },
   "file_extension": ".py",
   "mimetype": "text/x-python",
   "name": "python",
   "nbconvert_exporter": "python",
   "pygments_lexer": "ipython3",
   "version": "3.7.4"
  }
 },
 "nbformat": 4,
 "nbformat_minor": 5
}
