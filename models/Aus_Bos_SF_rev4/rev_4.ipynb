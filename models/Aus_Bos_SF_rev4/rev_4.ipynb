{
 "cells": [
  {
   "cell_type": "markdown",
   "id": "3ebc6195",
   "metadata": {},
   "source": [
    "# Permit Type Classification Final Model Training"
   ]
  },
  {
   "cell_type": "markdown",
   "id": "2189e6f7",
   "metadata": {},
   "source": [
    "## Description\n"
   ]
  },
  {
   "cell_type": "markdown",
   "id": "a7743210",
   "metadata": {},
   "source": [
    " The purpose of this model is classify construction permit types into four categories given a string input of the permit description or any notes regarding the permit. The four categories are electrical, building, mechanical, and plumbing. The core of the model is the BERT deep learning model developed by Google. "
   ]
  },
  {
   "cell_type": "markdown",
   "id": "1445657c",
   "metadata": {},
   "source": [
    "## Data "
   ]
  },
  {
   "cell_type": "markdown",
   "id": "a4031082",
   "metadata": {},
   "source": [
    "The data used for training were collected from three cities in the United States sourcing from public city records. The cities are Boston, Austin, and San Francisco. The raw permit data have been normalized to fit within one of the four labels. For example, the Boston dataset originally contained 14 permit classes. Those classes are mapped to the four categories eletrical, building, mechanical, and plumbing. The original datasets are additionally processed to remove incomplete data points. Only the permit description are used to train the model. \n"
   ]
  },
  {
   "cell_type": "markdown",
   "id": "76909829",
   "metadata": {},
   "source": [
    "## Training"
   ]
  },
  {
   "cell_type": "code",
   "execution_count": 1,
   "id": "94d4564c",
   "metadata": {},
   "outputs": [
    {
     "name": "stdout",
     "output_type": "stream",
     "text": [
      "Tensorflow version:  2.6.0\n",
      "GPU available:  [PhysicalDevice(name='/physical_device:GPU:0', device_type='GPU')]\n"
     ]
    }
   ],
   "source": [
    "import os\n",
    "import shutil\n",
    "\n",
    "import tensorflow as tf\n",
    "import tensorflow_hub as hub\n",
    "import tensorflow_text as text\n",
    "\n",
    "from official.nlp import optimization\n",
    "\n",
    "import matplotlib.pyplot as plt\n",
    "print('Tensorflow version: ', tf.__version__)\n",
    "print('GPU available: ', tf.config.list_physical_devices('GPU'))"
   ]
  },
  {
   "cell_type": "code",
   "execution_count": 2,
   "id": "63deaae0",
   "metadata": {},
   "outputs": [],
   "source": [
    "### data ###\n",
    "data_dir = \"training_v4\"\n",
    "train_dir = os.path.join(data_dir, 'train')\n",
    "test_dir = os.path.join(data_dir, 'test')"
   ]
  },
  {
   "cell_type": "code",
   "execution_count": 3,
   "id": "972c5375",
   "metadata": {},
   "outputs": [
    {
     "name": "stdout",
     "output_type": "stream",
     "text": [
      "Found 3455510 files belonging to 4 classes.\n",
      "Using 2764408 files for training.\n",
      "Found 3455510 files belonging to 4 classes.\n",
      "Using 691102 files for validation.\n",
      "Found 863726 files belonging to 4 classes.\n"
     ]
    }
   ],
   "source": [
    "### data reorganization ###\n",
    "AUTOTUNE = tf.data.AUTOTUNE\n",
    "batch_size = 64\n",
    "seed = 42\n",
    "\n",
    "raw_train_ds = tf.keras.preprocessing.text_dataset_from_directory(\n",
    "    train_dir,\n",
    "    batch_size=batch_size,\n",
    "    validation_split=0.2,\n",
    "    subset='training',\n",
    "    seed=seed)\n",
    "\n",
    "class_names = raw_train_ds.class_names\n",
    "train_ds = raw_train_ds.cache().prefetch(buffer_size=AUTOTUNE)\n",
    "\n",
    "val_ds = tf.keras.preprocessing.text_dataset_from_directory(\n",
    "    train_dir,\n",
    "    batch_size=batch_size,\n",
    "    validation_split=0.2,\n",
    "    subset='validation',\n",
    "    seed=seed)\n",
    "\n",
    "val_ds = val_ds.cache().prefetch(buffer_size=AUTOTUNE)\n",
    "\n",
    "test_ds = tf.keras.preprocessing.text_dataset_from_directory(\n",
    "    test_dir,\n",
    "    batch_size=batch_size)\n",
    "\n",
    "test_ds = test_ds.cache().prefetch(buffer_size=AUTOTUNE)"
   ]
  },
  {
   "cell_type": "code",
   "execution_count": 4,
   "id": "79180f61",
   "metadata": {},
   "outputs": [
    {
     "name": "stdout",
     "output_type": "stream",
     "text": [
      "Description: b'Foundation repair on the existing single family residence'\n",
      "Label : 0 (building_permit)\n",
      "Description: b'automatic fire sprklrs'\n",
      "Label : 0 (building_permit)\n",
      "Description: b'Replacing HVAC to existing residence only'\n",
      "Label : 2 (mechanical_permit)\n"
     ]
    }
   ],
   "source": [
    "### viewing sample data ###\n",
    "for text_batch, label_batch in train_ds.take(1):\n",
    "  for i in range(3):\n",
    "    print(f'Description: {text_batch.numpy()[i]}')\n",
    "    label = label_batch.numpy()[i]\n",
    "    print(f'Label : {label} ({class_names[label]})')"
   ]
  },
  {
   "cell_type": "code",
   "execution_count": 5,
   "id": "dab442bd",
   "metadata": {},
   "outputs": [],
   "source": [
    "### BERT model ###\n",
    "bert_model_name = 'small_bert/bert_en_uncased_L-4_H-512_A-8'\n",
    "model_encoder = 'https://tfhub.dev/tensorflow/small_bert/bert_en_uncased_L-4_H-512_A-8/1'\n",
    "model_preprocess = 'https://tfhub.dev/tensorflow/bert_en_uncased_preprocess/3'"
   ]
  },
  {
   "cell_type": "code",
   "execution_count": 6,
   "id": "5f56bda9",
   "metadata": {},
   "outputs": [],
   "source": [
    "bert_preprocess_model = hub.KerasLayer(model_preprocess)"
   ]
  },
  {
   "cell_type": "code",
   "execution_count": 7,
   "id": "8684b1a0",
   "metadata": {},
   "outputs": [],
   "source": [
    "bert_model = hub.KerasLayer(model_encoder)"
   ]
  },
  {
   "cell_type": "code",
   "execution_count": 8,
   "id": "4189c6a8",
   "metadata": {},
   "outputs": [],
   "source": [
    "### Building classifier ###\n",
    "def build_classifier_model():\n",
    "  text_input = tf.keras.layers.Input(shape=(), dtype=tf.string, name='text')\n",
    "  preprocessing_layer = hub.KerasLayer(model_preprocess, name='preprocessing')\n",
    "  encoder_inputs = preprocessing_layer(text_input)\n",
    "  encoder = hub.KerasLayer(model_encoder, trainable=True, name='BERT_encoder')\n",
    "  outputs = encoder(encoder_inputs)\n",
    "  net = outputs['pooled_output']\n",
    "  net = tf.keras.layers.Dropout(0.1)(net)\n",
    "  net = tf.keras.layers.Dense(4, activation=tf.nn.softmax, name='classifier')(net)\n",
    "  return tf.keras.Model(text_input, net)\n",
    "\n",
    "classifier_model = build_classifier_model()"
   ]
  },
  {
   "cell_type": "code",
   "execution_count": 9,
   "id": "d8fa05e2",
   "metadata": {},
   "outputs": [
    {
     "name": "stdout",
     "output_type": "stream",
     "text": [
      "Training model with https://tfhub.dev/tensorflow/small_bert/bert_en_uncased_L-4_H-512_A-8/1\n",
      "Epoch 1/2\n",
      "43194/43194 [==============================] - 27043s 626ms/step - loss: 0.9995 - accuracy: 0.7277 - val_loss: 0.9792 - val_accuracy: 0.7466\n",
      "\n",
      "Epoch 00001: saving model to checkpoints\\cp.ckpt\n",
      "Epoch 2/2\n",
      "43194/43194 [==============================] - 24529s 568ms/step - loss: 0.9776 - accuracy: 0.7472 - val_loss: 0.9747 - val_accuracy: 0.7493\n",
      "\n",
      "Epoch 00002: saving model to checkpoints\\cp.ckpt\n"
     ]
    }
   ],
   "source": [
    "### Train the model ###\n",
    "\n",
    "checkpoint_path = \"checkpoints/cp.ckpt\"\n",
    "checkpoint_dir = os.path.dirname(checkpoint_path)\n",
    "cp_callback = tf.keras.callbacks.ModelCheckpoint(filepath=checkpoint_path,\n",
    "                                                 save_weights_only=True,\n",
    "                                                 verbose=1)\n",
    "\n",
    "loss = tf.keras.losses.SparseCategoricalCrossentropy(from_logits=True)\n",
    "metrics = ['accuracy']\n",
    "epochs = 2\n",
    "steps_per_epoch = tf.data.experimental.cardinality(train_ds).numpy()\n",
    "num_train_steps = steps_per_epoch * epochs\n",
    "num_warmup_steps = int(0.1*num_train_steps)\n",
    "\n",
    "init_lr = 3e-5\n",
    "optimizer = optimization.create_optimizer(init_lr=init_lr,\n",
    "                                          num_train_steps=num_train_steps,\n",
    "                                          num_warmup_steps=num_warmup_steps,\n",
    "                                          optimizer_type='adamw')\n",
    "classifier_model.compile(optimizer=optimizer,\n",
    "                         loss=loss,\n",
    "                         metrics=metrics)\n",
    "\n",
    "print(f'Training model with {model_encoder}')\n",
    "history = classifier_model.fit(x=train_ds,\n",
    "                               validation_data=val_ds,\n",
    "                               epochs=epochs, callbacks=[cp_callback])"
   ]
  },
  {
   "cell_type": "code",
   "execution_count": 10,
   "id": "bf9e1437",
   "metadata": {},
   "outputs": [
    {
     "name": "stdout",
     "output_type": "stream",
     "text": [
      "13496/13496 [==============================] - 5021s 372ms/step - loss: 0.9753 - accuracy: 0.7484\n",
      "Loss: 0.9753215312957764\n",
      "Accuracy: 0.7483692765235901\n",
      "dict_keys(['loss', 'accuracy', 'val_loss', 'val_accuracy'])\n"
     ]
    },
    {
     "data": {
      "text/plain": [
       "<matplotlib.legend.Legend at 0x2373210d308>"
      ]
     },
     "execution_count": 10,
     "metadata": {},
     "output_type": "execute_result"
    },
    {
     "data": {
      "image/png": "[encoded data removed]",
      "text/plain": [
       "<Figure size 720x432 with 2 Axes>"
      ]
     },
     "metadata": {
      "needs_background": "light"
     },
     "output_type": "display_data"
    }
   ],
   "source": [
    "### Model evaluation ###\n",
    "\n",
    "loss, accuracy = classifier_model.evaluate(test_ds)\n",
    "\n",
    "print(f'Loss: {loss}')\n",
    "print(f'Accuracy: {accuracy}')\n",
    "\n",
    "history_dict = history.history\n",
    "print(history_dict.keys())\n",
    "\n",
    "acc = history_dict['accuracy']\n",
    "val_acc = history_dict['val_accuracy']\n",
    "loss = history_dict['loss']\n",
    "val_loss = history_dict['val_loss']\n",
    "\n",
    "epochs = range(1, len(acc) + 1)\n",
    "fig = plt.figure(figsize=(10, 6))\n",
    "fig.tight_layout()\n",
    "\n",
    "plt.subplot(2, 1, 1)\n",
    "# \"bo\" is for \"blue dot\"\n",
    "plt.plot(epochs, loss, 'r', label='Training loss')\n",
    "# b is for \"solid blue line\"\n",
    "plt.plot(epochs, val_loss, 'b', label='Validation loss')\n",
    "plt.title('Training and validation loss')\n",
    "# plt.xlabel('Epochs')\n",
    "plt.ylabel('Loss')\n",
    "plt.legend()\n",
    "\n",
    "plt.subplot(2, 1, 2)\n",
    "plt.plot(epochs, acc, 'r', label='Training acc')\n",
    "plt.plot(epochs, val_acc, 'b', label='Validation acc')\n",
    "plt.title('Training and validation accuracy')\n",
    "plt.xlabel('Epochs')\n",
    "plt.ylabel('Accuracy')\n",
    "plt.legend(loc='lower right')"
   ]
  },
  {
   "cell_type": "code",
   "execution_count": 11,
   "id": "2840fc5e",
   "metadata": {},
   "outputs": [
    {
     "name": "stderr",
     "output_type": "stream",
     "text": [
      "WARNING:absl:Found untraced functions such as restored_function_body, restored_function_body, restored_function_body, restored_function_body, restored_function_body while saving (showing 5 of 310). These functions will not be directly callable after loading.\n"
     ]
    },
    {
     "name": "stdout",
     "output_type": "stream",
     "text": [
      "INFO:tensorflow:Assets written to: ./final_ds_modelv2\\assets\n"
     ]
    },
    {
     "name": "stderr",
     "output_type": "stream",
     "text": [
      "INFO:tensorflow:Assets written to: ./final_ds_modelv2\\assets\n"
     ]
    }
   ],
   "source": [
    "### Save the model ###\n",
    "\n",
    "dataset_name = 'final_ds'\n",
    "saved_model_path = './{}_modelv2'.format(dataset_name.replace('/', '_'))\n",
    "\n",
    "classifier_model.save(saved_model_path)"
   ]
  },
  {
   "cell_type": "code",
   "execution_count": 12,
   "id": "0daa38e3",
   "metadata": {},
   "outputs": [],
   "source": [
    "### Reload model ###\n",
    "\n",
    "reloaded_model = tf.saved_model.load(saved_model_path)"
   ]
  },
  {
   "cell_type": "code",
   "execution_count": 13,
   "id": "00979941",
   "metadata": {},
   "outputs": [
    {
     "name": "stdout",
     "output_type": "stream",
     "text": [
      "['building_permit', 'electrical_permit', 'mechanical_permit', 'plumbing_permit']\n",
      "tf.Tensor(\n",
      "[[3.9970190e-03 3.9503184e-01 3.7216574e-01 2.2880541e-01]\n",
      " [1.2607602e-06 1.1482143e-06 6.6497921e-07 9.9999690e-01]\n",
      " [9.9999845e-01 6.7499758e-07 3.6527504e-07 4.4005273e-07]\n",
      " [4.5985971e-06 9.9998891e-01 4.8684064e-06 1.5972811e-06]\n",
      " [1.7678980e-05 9.9997532e-01 6.2763529e-06 7.7038032e-07]], shape=(5, 4), dtype=float32)\n",
      "Results:\n",
      "\t electrical_permit\n",
      "\t plumbing_permit\n",
      "\t building_permit\n",
      "\t electrical_permit\n",
      "\t electrical_permit\n"
     ]
    }
   ],
   "source": [
    "### Test results ###\n",
    "\n",
    "import numpy as np\n",
    "\n",
    "def print_my_examples(inputs, results):\n",
    "  result_for_printing = \\\n",
    "    [f'input: {inputs[i]:<30} : score: {results[i][0]:.6f}'\n",
    "                         for i in range(len(inputs))]\n",
    "  print(*result_for_printing, sep='\\n')\n",
    "  print()\n",
    "\n",
    "\n",
    "examples = [\n",
    "    'work for Blue Bottle Cafe RTU connection',\n",
    "    'Install toilet  sink  lavs  shower  laundry and water heater.',\n",
    "    'Residential Parking,use of premises for;1 car parking with new driveway  eplan',\n",
    "    'Low Voltage,To install an intercom door bell system and security camera in the buildingTo install TV cable  in all three floor',\n",
    "    'Relocate existing smoke detectors and horn/strobes. Install additional smoke detectors and horn/strobes for new 5th. floor office lay-out.'\n",
    "]\n",
    "\n",
    "# reloaded_results = reloaded_model(tf.constant(examples))\n",
    "original_results = classifier_model(tf.constant(examples))\n",
    "print(class_names)\n",
    "print(original_results)\n",
    "print('Results:')\n",
    "max_ind = np.argmax(original_results.numpy(), axis=1)\n",
    "for idx in max_ind:\n",
    "    print('\\t',class_names[idx])\n"
   ]
  },
  {
   "cell_type": "code",
   "execution_count": 44,
   "id": "0d5d603a",
   "metadata": {},
   "outputs": [
    {
     "ename": "AttributeError",
     "evalue": "'_UserObject' object has no attribute 'fit'",
     "output_type": "error",
     "traceback": [
      "\u001b[1;31m---------------------------------------------------------------------------\u001b[0m",
      "\u001b[1;31mAttributeError\u001b[0m                            Traceback (most recent call last)",
      "\u001b[1;32m~\\AppData\\Local\\Temp/ipykernel_4012/2708523721.py\u001b[0m in \u001b[0;36m<module>\u001b[1;34m\u001b[0m\n\u001b[1;32m----> 1\u001b[1;33m history = reloaded_model.fit(x=train_ds,\n\u001b[0m\u001b[0;32m      2\u001b[0m                                \u001b[0mvalidation_data\u001b[0m\u001b[1;33m=\u001b[0m\u001b[0mval_ds\u001b[0m\u001b[1;33m,\u001b[0m\u001b[1;33m\u001b[0m\u001b[1;33m\u001b[0m\u001b[0m\n\u001b[0;32m      3\u001b[0m                                epochs=1)\n",
      "\u001b[1;31mAttributeError\u001b[0m: '_UserObject' object has no attribute 'fit'"
     ]
    }
   ],
   "source": [
    "history = reloaded_model.fit(x=train_ds,\n",
    "                               validation_data=val_ds,\n",
    "                               epochs=1)"
   ]
  },
  {
   "cell_type": "code",
   "execution_count": null,
   "id": "5c5b16e2",
   "metadata": {},
   "outputs": [],
   "source": []
  }
 ],
 "metadata": {
  "kernelspec": {
   "display_name": "Python 3 (ipykernel)",
   "language": "python",
   "name": "python3"
  },
  "language_info": {
   "codemirror_mode": {
    "name": "ipython",
    "version": 3
   },
   "file_extension": ".py",
   "mimetype": "text/x-python",
   "name": "python",
   "nbconvert_exporter": "python",
   "pygments_lexer": "ipython3",
   "version": "3.7.4"
  }
 },
 "nbformat": 4,
 "nbformat_minor": 5
}
